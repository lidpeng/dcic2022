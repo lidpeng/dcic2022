{
 "cells": [
  {
   "cell_type": "code",
   "execution_count": 3,
   "id": "6cf1c40b",
   "metadata": {},
   "outputs": [
    {
     "name": "stdout",
     "output_type": "stream",
     "text": [
      "/home/ldp/competition/dcic/yolov5\n"
     ]
    }
   ],
   "source": [
    "%cd yolov5"
   ]
  },
  {
   "cell_type": "code",
   "execution_count": 4,
   "id": "78162f4d",
   "metadata": {
    "_cell_guid": "b1076dfc-b9ad-4769-8c92-a6c4dae69d19",
    "_uuid": "8f2839f25d086af736a60e9eeb907d3b93b6e0e5",
    "execution": {
     "iopub.execute_input": "2022-01-13T13:29:53.646494Z",
     "iopub.status.busy": "2022-01-13T13:29:53.645710Z",
     "iopub.status.idle": "2022-01-13T13:29:55.037868Z",
     "shell.execute_reply": "2022-01-13T13:29:55.039145Z",
     "shell.execute_reply.started": "2022-01-12T06:13:32.377013Z"
    },
    "papermill": {
     "duration": 1.41513,
     "end_time": "2022-01-13T13:29:55.039510",
     "exception": false,
     "start_time": "2022-01-13T13:29:53.624380",
     "status": "completed"
    },
    "tags": []
   },
   "outputs": [],
   "source": [
    "# This Python 3 environment comes with many helpful analytics libraries installed\n",
    "# It is defined by the kaggle/python Docker image: https://github.com/kaggle/docker-python\n",
    "# For example, here's several helpful packages to load\n",
    "import numpy as np # linear algebra\n",
    "import pandas as pd # data processing, CSV file I/O (e.g. pd.read_csv)\n",
    "import torch\n",
    "from tqdm import tqdm\n",
    "import sys\n",
    "import cv2\n",
    "from PIL import Image\n",
    "from IPython.display import display\n",
    "from utils.general import non_max_suppression, scale_coords\n",
    "from utils.datasets import exif_transpose, letterbox"
   ]
  },
  {
   "cell_type": "code",
   "execution_count": 5,
   "id": "ce851f1e",
   "metadata": {},
   "outputs": [],
   "source": [
    "device = torch.device('cuda') if torch.cuda.is_available() else torch.device('cpu')"
   ]
  },
  {
   "cell_type": "code",
   "execution_count": 9,
   "id": "cb88854d",
   "metadata": {
    "execution": {
     "iopub.execute_input": "2022-01-13T13:29:56.541217Z",
     "iopub.status.busy": "2022-01-13T13:29:56.540458Z",
     "iopub.status.idle": "2022-01-13T13:30:02.994582Z",
     "shell.execute_reply": "2022-01-13T13:30:02.995046Z",
     "shell.execute_reply.started": "2022-01-12T06:18:34.922121Z"
    },
    "papermill": {
     "duration": 6.463307,
     "end_time": "2022-01-13T13:30:02.995231",
     "exception": false,
     "start_time": "2022-01-13T13:29:56.531924",
     "status": "completed"
    },
    "tags": []
   },
   "outputs": [],
   "source": [
    "model = torch.hub.load('/home/ldp/competition/dcic/yolov5-lib-ds', \n",
    "                       'custom', \n",
    "                       path='/home/ldp/competition/dcic/yolov5/runs/train/32_1024_uflip_vm5_f1_naive2/weights/best.pt',\n",
    "                       source='local',\n",
    "                       force_reload=True)# local repo\n",
    "model.conf = 0.1"
   ]
  },
  {
   "cell_type": "code",
   "execution_count": 6,
   "id": "e81222d5",
   "metadata": {},
   "outputs": [],
   "source": [
    "submit = pd.read_csv('/home/ldp/competitions/dcic2022/ship_detect/data/submit_example.csv',header=None)"
   ]
  },
  {
   "cell_type": "code",
   "execution_count": 7,
   "id": "3ba4c333",
   "metadata": {},
   "outputs": [],
   "source": [
    "def draw_yolo_predictions(img, bboxes, scores, confthre):\n",
    "    for i in range(len(bboxes)):\n",
    "            box = bboxes[i]\n",
    "            \n",
    "            score = scores[i]\n",
    "            if score < confthre:\n",
    "                continue\n",
    "            x0 = int(box[0])\n",
    "            y0 = int(box[1])\n",
    "            x1 = int(box[2])\n",
    "            y1 = int(box[3])\n",
    "\n",
    "            cv2.rectangle(img, (x0, y0), (x1, y1), (0, 255, 0), 2)\n",
    "            cv2.putText(img, '{}:{:.1f}%'.format('ship', score * 100), (x0, y0 - 3), cv2.FONT_HERSHEY_PLAIN, 0.8, (0,255,0), thickness = 1)\n",
    "    return img"
   ]
  },
  {
   "cell_type": "code",
   "execution_count": 13,
   "id": "b559e353",
   "metadata": {},
   "outputs": [
    {
     "name": "stderr",
     "output_type": "stream",
     "text": [
      "18112it [28:12, 10.70it/s]\n"
     ]
    }
   ],
   "source": [
    "img_size = 256\n",
    "thres_score = 0.5\n",
    "for i,test_idx in tqdm(enumerate(submit.loc[:,0])):\n",
    "    img = cv2.imread(f'/home/ldp/competitions/dcic2022/ship_detect/data/test_dataset/{str(test_idx).zfill(5)}.jpg')\n",
    "    # display(Image.fromarray(img))\n",
    "    anno = ''\n",
    "    scores = []\n",
    "    boxes = []\n",
    "    r = model(img, size=img_size*4, augment=True)\n",
    "\n",
    "    box_count = 0\n",
    "    if r.pandas().xyxy[0].shape[0] == 0:\n",
    "        anno = ''\n",
    "    else:\n",
    "        max_score = 0\n",
    "        for idx, row in r.pandas().xyxy[0].iterrows():\n",
    "            if row.confidence > max_score:\n",
    "                max_score = row.confidence\n",
    "                max_row = row\n",
    "            # scores.append(row.confidence)\n",
    "            # boxes.append([int(row.xmin),int(row.ymin),int(row.xmax),int(row.ymax)])\n",
    "\n",
    "            if row.confidence >= thres_score:\n",
    "                obj_width = row.ymax-row.ymin\n",
    "                obj_length = row.xmax-row.xmin\n",
    "                if box_count == 0:\n",
    "                    anno += '{} {} {} {}'.format((row.xmin + obj_length*1/2)/img_size, (row.ymin + obj_width*1/2)/img_size, obj_length/img_size, obj_width/img_size)\n",
    "                else:\n",
    "                    anno += ';{} {} {} {}'.format((row.xmin + obj_length*1/2)/img_size, (row.ymin + obj_width*1/2)/img_size, obj_length/img_size, obj_width/img_size)\n",
    "                box_count += 1\n",
    "\n",
    "    submit.loc[i,1] = anno\n",
    "\n"
   ]
  },
  {
   "cell_type": "code",
   "execution_count": 15,
   "id": "89e6291d",
   "metadata": {},
   "outputs": [],
   "source": [
    "submit.to_csv('submission.csv',index=False,header=None)"
   ]
  },
  {
   "cell_type": "code",
   "execution_count": null,
   "id": "bc8d9820",
   "metadata": {},
   "outputs": [],
   "source": []
  }
 ],
 "metadata": {
  "kernelspec": {
   "display_name": "Python 3",
   "language": "python",
   "name": "python3"
  },
  "language_info": {
   "codemirror_mode": {
    "name": "ipython",
    "version": 3
   },
   "file_extension": ".py",
   "mimetype": "text/x-python",
   "name": "python",
   "nbconvert_exporter": "python",
   "pygments_lexer": "ipython3",
   "version": "3.8.5"
  },
  "papermill": {
   "default_parameters": {},
   "duration": 25.13508,
   "end_time": "2022-01-13T13:30:10.129132",
   "environment_variables": {},
   "exception": null,
   "input_path": "__notebook__.ipynb",
   "output_path": "__notebook__.ipynb",
   "parameters": {},
   "start_time": "2022-01-13T13:29:44.994052",
   "version": "2.3.3"
  }
 },
 "nbformat": 4,
 "nbformat_minor": 5
}
