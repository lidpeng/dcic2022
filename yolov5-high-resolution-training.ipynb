{
 "cells": [
  {
   "cell_type": "markdown",
   "id": "808f9594",
   "metadata": {
    "papermill": {
     "duration": 0.014295,
     "end_time": "2022-01-13T15:51:23.123224",
     "exception": false,
     "start_time": "2022-01-13T15:51:23.108929",
     "status": "completed"
    },
    "tags": []
   },
   "source": [
    "## Yolov5 high resolution training"
   ]
  },
  {
   "cell_type": "code",
   "execution_count": 22,
   "id": "a427573d",
   "metadata": {
    "_cell_guid": "b1076dfc-b9ad-4769-8c92-a6c4dae69d19",
    "_uuid": "8f2839f25d086af736a60e9eeb907d3b93b6e0e5",
    "execution": {
     "iopub.execute_input": "2022-01-13T15:51:23.164997Z",
     "iopub.status.busy": "2022-01-13T15:51:23.163871Z",
     "iopub.status.idle": "2022-01-13T15:51:23.172275Z",
     "shell.execute_reply": "2022-01-13T15:51:23.172885Z",
     "shell.execute_reply.started": "2022-01-13T15:39:58.613315Z"
    },
    "papermill": {
     "duration": 0.034296,
     "end_time": "2022-01-13T15:51:23.173228",
     "exception": false,
     "start_time": "2022-01-13T15:51:23.138932",
     "status": "completed"
    },
    "tags": []
   },
   "outputs": [],
   "source": [
    "import numpy as np # linear algebra\n",
    "import pandas as pd # data processing, CSV file I/O (e.g. pd.read_csv)\n",
    "from shutil import copyfile\n",
    "from sklearn.model_selection import GroupKFold\n",
    "import matplotlib.pyplot as plt"
   ]
  },
  {
   "cell_type": "code",
   "execution_count": 78,
   "id": "2e9e9a46",
   "metadata": {
    "execution": {
     "iopub.execute_input": "2022-01-13T15:51:23.206188Z",
     "iopub.status.busy": "2022-01-13T15:51:23.205479Z",
     "iopub.status.idle": "2022-01-13T15:51:23.269679Z",
     "shell.execute_reply": "2022-01-13T15:51:23.270187Z",
     "shell.execute_reply.started": "2022-01-13T15:39:59.357357Z"
    },
    "papermill": {
     "duration": 0.083521,
     "end_time": "2022-01-13T15:51:23.270414",
     "exception": false,
     "start_time": "2022-01-13T15:51:23.186893",
     "status": "completed"
    },
    "tags": []
   },
   "outputs": [],
   "source": [
    "train = pd.read_csv('/home/ldp/competitions/dcic2022/ship_detect/data/train.csv', encoding = 'gb2312')\n",
    "train['train'] = 1\n",
    "# train['pos'] = train.annotations != '[]'\n",
    "submit = pd.read_csv('/home/ldp/competitions/dcic2022/ship_detect/submission.csv',header=None)"
   ]
  },
  {
   "cell_type": "code",
   "execution_count": 79,
   "id": "caa14bc1",
   "metadata": {},
   "outputs": [],
   "source": [
    "submit.columns = ['文件名','坐标']"
   ]
  },
  {
   "cell_type": "code",
   "execution_count": 80,
   "id": "d1b752ef",
   "metadata": {},
   "outputs": [],
   "source": [
    "def get_ship_num(x):\n",
    "    return len(x.split(';')) if type(x) != float else 0\n",
    "submit['船数量'] = submit['坐标'].apply(get_ship_num)\n"
   ]
  },
  {
   "cell_type": "code",
   "execution_count": null,
   "id": "8393b1c0",
   "metadata": {},
   "outputs": [],
   "source": [
    "kf = GroupKFold(n_splits = 5) \n",
    "train = train.reset_index(drop=True)\n",
    "train['fold'] = -1\n",
    "for fold, (train_idx, val_idx) in enumerate(kf.split(train, y = train.船数量.tolist(), groups=train.文件名)):\n",
    "    train.loc[val_idx, 'fold'] = fold\n",
    "\n",
    "train.head(5)"
   ]
  },
  {
   "cell_type": "code",
   "execution_count": 83,
   "id": "41973476",
   "metadata": {},
   "outputs": [
    {
     "data": {
      "text/plain": [
       "<AxesSubplot:>"
      ]
     },
     "execution_count": 83,
     "metadata": {},
     "output_type": "execute_result"
    },
    {
     "data": {
      "image/png": "[encoded data removed]",
      "image/svg+xml": "<?xml version=\"1.0\" encoding=\"utf-8\" standalone=\"no\"?>\n<!DOCTYPE svg PUBLIC \"-//W3C//DTD SVG 1.1//EN\"\n  \"http://www.w3.org/Graphics/SVG/1.1/DTD/svg11.dtd\">\n<!-- Created with matplotlib (https://matplotlib.org/) -->\n<svg height=\"248.518125pt\" version=\"1.1\" viewBox=\"0 0 368.925 248.518125\" width=\"368.925pt\" xmlns=\"http://www.w3.org/2000/svg\" xmlns:xlink=\"http://www.w3.org/1999/xlink\">\n <metadata>\n  <rdf:RDF xmlns:cc=\"http://creativecommons.org/ns#\" xmlns:dc=\"http://purl.org/dc/elements/1.1/\" xmlns:rdf=\"http://www.w3.org/1999/02/22-rdf-syntax-ns#\">\n   <cc:Work>\n    <dc:type rdf:resource=\"http://purl.org/dc/dcmitype/StillImage\"/>\n    <dc:date>2022-01-27T13:41:44.808019</dc:date>\n    <dc:format>image/svg+xml</dc:format>\n    <dc:creator>\n     <cc:Agent>\n      <dc:title>Matplotlib v3.3.2, https://matplotlib.org/</dc:title>\n     </cc:Agent>\n    </dc:creator>\n   </cc:Work>\n  </rdf:RDF>\n </metadata>\n <defs>\n  <style type=\"text/css\">*{stroke-linecap:butt;stroke-linejoin:round;}</style>\n </defs>\n <g id=\"figure_1\">\n  <g id=\"patch_1\">\n   <path d=\"M -0 248.518125 \nL 368.925 248.518125 \nL 368.925 0 \nL -0 0 \nz\n\"/>\n  </g>\n  <g id=\"axes_1\">\n   <g id=\"patch_2\">\n    <path d=\"M 26.925 224.64 \nL 361.725 224.64 \nL 361.725 7.2 \nL 26.925 7.2 \nz\n\"/>\n   </g>\n   <g id=\"matplotlib.axis_1\">\n    <g id=\"xtick_1\">\n     <g id=\"line2d_1\">\n      <defs>\n       <path d=\"M 0 0 \nL 0 3.5 \n\" id=\"me7704b6b74\" style=\"stroke:#ffffff;stroke-width:0.8;\"/>\n      </defs>\n      <g>\n       <use style=\"fill:#ffffff;stroke:#ffffff;stroke-width:0.8;\" x=\"42.143182\" xlink:href=\"#me7704b6b74\" y=\"224.64\"/>\n      </g>\n     </g>\n     <g id=\"text_1\">\n      <!-- 0 -->\n      <g style=\"fill:#ffffff;\" transform=\"translate(38.961932 239.238437)scale(0.1 -0.1)\">\n       <defs>\n        <path d=\"M 31.78125 66.40625 \nQ 24.171875 66.40625 20.328125 58.90625 \nQ 16.5 51.421875 16.5 36.375 \nQ 16.5 21.390625 20.328125 13.890625 \nQ 24.171875 6.390625 31.78125 6.390625 \nQ 39.453125 6.390625 43.28125 13.890625 \nQ 47.125 21.390625 47.125 36.375 \nQ 47.125 51.421875 43.28125 58.90625 \nQ 39.453125 66.40625 31.78125 66.40625 \nz\nM 31.78125 74.21875 \nQ 44.046875 74.21875 50.515625 64.515625 \nQ 56.984375 54.828125 56.984375 36.375 \nQ 56.984375 17.96875 50.515625 8.265625 \nQ 44.046875 -1.421875 31.78125 -1.421875 \nQ 19.53125 -1.421875 13.0625 8.265625 \nQ 6.59375 17.96875 6.59375 36.375 \nQ 6.59375 54.828125 13.0625 64.515625 \nQ 19.53125 74.21875 31.78125 74.21875 \nz\n\" id=\"DejaVuSans-48\"/>\n       </defs>\n       <use xlink:href=\"#DejaVuSans-48\"/>\n      </g>\n     </g>\n    </g>\n    <g id=\"xtick_2\">\n     <g id=\"line2d_2\">\n      <g>\n       <use style=\"fill:#ffffff;stroke:#ffffff;stroke-width:0.8;\" x=\"112.915548\" xlink:href=\"#me7704b6b74\" y=\"224.64\"/>\n      </g>\n     </g>\n     <g id=\"text_2\">\n      <!-- 5000 -->\n      <g style=\"fill:#ffffff;\" transform=\"translate(100.190548 239.238437)scale(0.1 -0.1)\">\n       <defs>\n        <path d=\"M 10.796875 72.90625 \nL 49.515625 72.90625 \nL 49.515625 64.59375 \nL 19.828125 64.59375 \nL 19.828125 46.734375 \nQ 21.96875 47.46875 24.109375 47.828125 \nQ 26.265625 48.1875 28.421875 48.1875 \nQ 40.625 48.1875 47.75 41.5 \nQ 54.890625 34.8125 54.890625 23.390625 \nQ 54.890625 11.625 47.5625 5.09375 \nQ 40.234375 -1.421875 26.90625 -1.421875 \nQ 22.3125 -1.421875 17.546875 -0.640625 \nQ 12.796875 0.140625 7.71875 1.703125 \nL 7.71875 11.625 \nQ 12.109375 9.234375 16.796875 8.0625 \nQ 21.484375 6.890625 26.703125 6.890625 \nQ 35.15625 6.890625 40.078125 11.328125 \nQ 45.015625 15.765625 45.015625 23.390625 \nQ 45.015625 31 40.078125 35.4375 \nQ 35.15625 39.890625 26.703125 39.890625 \nQ 22.75 39.890625 18.8125 39.015625 \nQ 14.890625 38.140625 10.796875 36.28125 \nz\n\" id=\"DejaVuSans-53\"/>\n       </defs>\n       <use xlink:href=\"#DejaVuSans-53\"/>\n       <use x=\"63.623047\" xlink:href=\"#DejaVuSans-48\"/>\n       <use x=\"127.246094\" xlink:href=\"#DejaVuSans-48\"/>\n       <use x=\"190.869141\" xlink:href=\"#DejaVuSans-48\"/>\n      </g>\n     </g>\n    </g>\n    <g id=\"xtick_3\">\n     <g id=\"line2d_3\">\n      <g>\n       <use style=\"fill:#ffffff;stroke:#ffffff;stroke-width:0.8;\" x=\"183.687913\" xlink:href=\"#me7704b6b74\" y=\"224.64\"/>\n      </g>\n     </g>\n     <g id=\"text_3\">\n      <!-- 10000 -->\n      <g style=\"fill:#ffffff;\" transform=\"translate(167.781663 239.238437)scale(0.1 -0.1)\">\n       <defs>\n        <path d=\"M 12.40625 8.296875 \nL 28.515625 8.296875 \nL 28.515625 63.921875 \nL 10.984375 60.40625 \nL 10.984375 69.390625 \nL 28.421875 72.90625 \nL 38.28125 72.90625 \nL 38.28125 8.296875 \nL 54.390625 8.296875 \nL 54.390625 0 \nL 12.40625 0 \nz\n\" id=\"DejaVuSans-49\"/>\n       </defs>\n       <use xlink:href=\"#DejaVuSans-49\"/>\n       <use x=\"63.623047\" xlink:href=\"#DejaVuSans-48\"/>\n       <use x=\"127.246094\" xlink:href=\"#DejaVuSans-48\"/>\n       <use x=\"190.869141\" xlink:href=\"#DejaVuSans-48\"/>\n       <use x=\"254.492188\" xlink:href=\"#DejaVuSans-48\"/>\n      </g>\n     </g>\n    </g>\n    <g id=\"xtick_4\">\n     <g id=\"line2d_4\">\n      <g>\n       <use style=\"fill:#ffffff;stroke:#ffffff;stroke-width:0.8;\" x=\"254.460279\" xlink:href=\"#me7704b6b74\" y=\"224.64\"/>\n      </g>\n     </g>\n     <g id=\"text_4\">\n      <!-- 15000 -->\n      <g style=\"fill:#ffffff;\" transform=\"translate(238.554029 239.238437)scale(0.1 -0.1)\">\n       <use xlink:href=\"#DejaVuSans-49\"/>\n       <use x=\"63.623047\" xlink:href=\"#DejaVuSans-53\"/>\n       <use x=\"127.246094\" xlink:href=\"#DejaVuSans-48\"/>\n       <use x=\"190.869141\" xlink:href=\"#DejaVuSans-48\"/>\n       <use x=\"254.492188\" xlink:href=\"#DejaVuSans-48\"/>\n      </g>\n     </g>\n    </g>\n    <g id=\"xtick_5\">\n     <g id=\"line2d_5\">\n      <g>\n       <use style=\"fill:#ffffff;stroke:#ffffff;stroke-width:0.8;\" x=\"325.232645\" xlink:href=\"#me7704b6b74\" y=\"224.64\"/>\n      </g>\n     </g>\n     <g id=\"text_5\">\n      <!-- 20000 -->\n      <g style=\"fill:#ffffff;\" transform=\"translate(309.326395 239.238437)scale(0.1 -0.1)\">\n       <defs>\n        <path d=\"M 19.1875 8.296875 \nL 53.609375 8.296875 \nL 53.609375 0 \nL 7.328125 0 \nL 7.328125 8.296875 \nQ 12.9375 14.109375 22.625 23.890625 \nQ 32.328125 33.6875 34.8125 36.53125 \nQ 39.546875 41.84375 41.421875 45.53125 \nQ 43.3125 49.21875 43.3125 52.78125 \nQ 43.3125 58.59375 39.234375 62.25 \nQ 35.15625 65.921875 28.609375 65.921875 \nQ 23.96875 65.921875 18.8125 64.3125 \nQ 13.671875 62.703125 7.8125 59.421875 \nL 7.8125 69.390625 \nQ 13.765625 71.78125 18.9375 73 \nQ 24.125 74.21875 28.421875 74.21875 \nQ 39.75 74.21875 46.484375 68.546875 \nQ 53.21875 62.890625 53.21875 53.421875 \nQ 53.21875 48.921875 51.53125 44.890625 \nQ 49.859375 40.875 45.40625 35.40625 \nQ 44.1875 33.984375 37.640625 27.21875 \nQ 31.109375 20.453125 19.1875 8.296875 \nz\n\" id=\"DejaVuSans-50\"/>\n       </defs>\n       <use xlink:href=\"#DejaVuSans-50\"/>\n       <use x=\"63.623047\" xlink:href=\"#DejaVuSans-48\"/>\n       <use x=\"127.246094\" xlink:href=\"#DejaVuSans-48\"/>\n       <use x=\"190.869141\" xlink:href=\"#DejaVuSans-48\"/>\n       <use x=\"254.492188\" xlink:href=\"#DejaVuSans-48\"/>\n      </g>\n     </g>\n    </g>\n   </g>\n   <g id=\"matplotlib.axis_2\">\n    <g id=\"ytick_1\">\n     <g id=\"line2d_6\">\n      <defs>\n       <path d=\"M 0 0 \nL -3.5 0 \n\" id=\"m363cc8ef3c\" style=\"stroke:#ffffff;stroke-width:0.8;\"/>\n      </defs>\n      <g>\n       <use style=\"fill:#ffffff;stroke:#ffffff;stroke-width:0.8;\" x=\"26.925\" xlink:href=\"#m363cc8ef3c\" y=\"200.636883\"/>\n      </g>\n     </g>\n     <g id=\"text_6\">\n      <!-- 2 -->\n      <g style=\"fill:#ffffff;\" transform=\"translate(13.5625 204.436102)scale(0.1 -0.1)\">\n       <use xlink:href=\"#DejaVuSans-50\"/>\n      </g>\n     </g>\n    </g>\n    <g id=\"ytick_2\">\n     <g id=\"line2d_7\">\n      <g>\n       <use style=\"fill:#ffffff;stroke:#ffffff;stroke-width:0.8;\" x=\"26.925\" xlink:href=\"#m363cc8ef3c\" y=\"172.397922\"/>\n      </g>\n     </g>\n     <g id=\"text_7\">\n      <!-- 4 -->\n      <g style=\"fill:#ffffff;\" transform=\"translate(13.5625 176.197141)scale(0.1 -0.1)\">\n       <defs>\n        <path d=\"M 37.796875 64.3125 \nL 12.890625 25.390625 \nL 37.796875 25.390625 \nz\nM 35.203125 72.90625 \nL 47.609375 72.90625 \nL 47.609375 25.390625 \nL 58.015625 25.390625 \nL 58.015625 17.1875 \nL 47.609375 17.1875 \nL 47.609375 0 \nL 37.796875 0 \nL 37.796875 17.1875 \nL 4.890625 17.1875 \nL 4.890625 26.703125 \nz\n\" id=\"DejaVuSans-52\"/>\n       </defs>\n       <use xlink:href=\"#DejaVuSans-52\"/>\n      </g>\n     </g>\n    </g>\n    <g id=\"ytick_3\">\n     <g id=\"line2d_8\">\n      <g>\n       <use style=\"fill:#ffffff;stroke:#ffffff;stroke-width:0.8;\" x=\"26.925\" xlink:href=\"#m363cc8ef3c\" y=\"144.158961\"/>\n      </g>\n     </g>\n     <g id=\"text_8\">\n      <!-- 6 -->\n      <g style=\"fill:#ffffff;\" transform=\"translate(13.5625 147.95818)scale(0.1 -0.1)\">\n       <defs>\n        <path d=\"M 33.015625 40.375 \nQ 26.375 40.375 22.484375 35.828125 \nQ 18.609375 31.296875 18.609375 23.390625 \nQ 18.609375 15.53125 22.484375 10.953125 \nQ 26.375 6.390625 33.015625 6.390625 \nQ 39.65625 6.390625 43.53125 10.953125 \nQ 47.40625 15.53125 47.40625 23.390625 \nQ 47.40625 31.296875 43.53125 35.828125 \nQ 39.65625 40.375 33.015625 40.375 \nz\nM 52.59375 71.296875 \nL 52.59375 62.3125 \nQ 48.875 64.0625 45.09375 64.984375 \nQ 41.3125 65.921875 37.59375 65.921875 \nQ 27.828125 65.921875 22.671875 59.328125 \nQ 17.53125 52.734375 16.796875 39.40625 \nQ 19.671875 43.65625 24.015625 45.921875 \nQ 28.375 48.1875 33.59375 48.1875 \nQ 44.578125 48.1875 50.953125 41.515625 \nQ 57.328125 34.859375 57.328125 23.390625 \nQ 57.328125 12.15625 50.6875 5.359375 \nQ 44.046875 -1.421875 33.015625 -1.421875 \nQ 20.359375 -1.421875 13.671875 8.265625 \nQ 6.984375 17.96875 6.984375 36.375 \nQ 6.984375 53.65625 15.1875 63.9375 \nQ 23.390625 74.21875 37.203125 74.21875 \nQ 40.921875 74.21875 44.703125 73.484375 \nQ 48.484375 72.75 52.59375 71.296875 \nz\n\" id=\"DejaVuSans-54\"/>\n       </defs>\n       <use xlink:href=\"#DejaVuSans-54\"/>\n      </g>\n     </g>\n    </g>\n    <g id=\"ytick_4\">\n     <g id=\"line2d_9\">\n      <g>\n       <use style=\"fill:#ffffff;stroke:#ffffff;stroke-width:0.8;\" x=\"26.925\" xlink:href=\"#m363cc8ef3c\" y=\"115.92\"/>\n      </g>\n     </g>\n     <g id=\"text_9\">\n      <!-- 8 -->\n      <g style=\"fill:#ffffff;\" transform=\"translate(13.5625 119.719219)scale(0.1 -0.1)\">\n       <defs>\n        <path d=\"M 31.78125 34.625 \nQ 24.75 34.625 20.71875 30.859375 \nQ 16.703125 27.09375 16.703125 20.515625 \nQ 16.703125 13.921875 20.71875 10.15625 \nQ 24.75 6.390625 31.78125 6.390625 \nQ 38.8125 6.390625 42.859375 10.171875 \nQ 46.921875 13.96875 46.921875 20.515625 \nQ 46.921875 27.09375 42.890625 30.859375 \nQ 38.875 34.625 31.78125 34.625 \nz\nM 21.921875 38.8125 \nQ 15.578125 40.375 12.03125 44.71875 \nQ 8.5 49.078125 8.5 55.328125 \nQ 8.5 64.0625 14.71875 69.140625 \nQ 20.953125 74.21875 31.78125 74.21875 \nQ 42.671875 74.21875 48.875 69.140625 \nQ 55.078125 64.0625 55.078125 55.328125 \nQ 55.078125 49.078125 51.53125 44.71875 \nQ 48 40.375 41.703125 38.8125 \nQ 48.828125 37.15625 52.796875 32.3125 \nQ 56.78125 27.484375 56.78125 20.515625 \nQ 56.78125 9.90625 50.3125 4.234375 \nQ 43.84375 -1.421875 31.78125 -1.421875 \nQ 19.734375 -1.421875 13.25 4.234375 \nQ 6.78125 9.90625 6.78125 20.515625 \nQ 6.78125 27.484375 10.78125 32.3125 \nQ 14.796875 37.15625 21.921875 38.8125 \nz\nM 18.3125 54.390625 \nQ 18.3125 48.734375 21.84375 45.5625 \nQ 25.390625 42.390625 31.78125 42.390625 \nQ 38.140625 42.390625 41.71875 45.5625 \nQ 45.3125 48.734375 45.3125 54.390625 \nQ 45.3125 60.0625 41.71875 63.234375 \nQ 38.140625 66.40625 31.78125 66.40625 \nQ 25.390625 66.40625 21.84375 63.234375 \nQ 18.3125 60.0625 18.3125 54.390625 \nz\n\" id=\"DejaVuSans-56\"/>\n       </defs>\n       <use xlink:href=\"#DejaVuSans-56\"/>\n      </g>\n     </g>\n    </g>\n    <g id=\"ytick_5\">\n     <g id=\"line2d_10\">\n      <g>\n       <use style=\"fill:#ffffff;stroke:#ffffff;stroke-width:0.8;\" x=\"26.925\" xlink:href=\"#m363cc8ef3c\" y=\"87.681039\"/>\n      </g>\n     </g>\n     <g id=\"text_10\">\n      <!-- 10 -->\n      <g style=\"fill:#ffffff;\" transform=\"translate(7.2 91.480258)scale(0.1 -0.1)\">\n       <use xlink:href=\"#DejaVuSans-49\"/>\n       <use x=\"63.623047\" xlink:href=\"#DejaVuSans-48\"/>\n      </g>\n     </g>\n    </g>\n    <g id=\"ytick_6\">\n     <g id=\"line2d_11\">\n      <g>\n       <use style=\"fill:#ffffff;stroke:#ffffff;stroke-width:0.8;\" x=\"26.925\" xlink:href=\"#m363cc8ef3c\" y=\"59.442078\"/>\n      </g>\n     </g>\n     <g id=\"text_11\">\n      <!-- 12 -->\n      <g style=\"fill:#ffffff;\" transform=\"translate(7.2 63.241297)scale(0.1 -0.1)\">\n       <use xlink:href=\"#DejaVuSans-49\"/>\n       <use x=\"63.623047\" xlink:href=\"#DejaVuSans-50\"/>\n      </g>\n     </g>\n    </g>\n    <g id=\"ytick_7\">\n     <g id=\"line2d_12\">\n      <g>\n       <use style=\"fill:#ffffff;stroke:#ffffff;stroke-width:0.8;\" x=\"26.925\" xlink:href=\"#m363cc8ef3c\" y=\"31.203117\"/>\n      </g>\n     </g>\n     <g id=\"text_12\">\n      <!-- 14 -->\n      <g style=\"fill:#ffffff;\" transform=\"translate(7.2 35.002336)scale(0.1 -0.1)\">\n       <use xlink:href=\"#DejaVuSans-49\"/>\n       <use x=\"63.623047\" xlink:href=\"#DejaVuSans-52\"/>\n      </g>\n     </g>\n    </g>\n   </g>\n   <g id=\"line2d_13\">\n    <path clip-path=\"url(#p78dfdf4c7d)\" d=\"M 42.143182 214.756364 \nL 42.185645 214.756364 \nL 42.242263 200.636883 \nL 42.284727 214.756364 \nL 42.397962 214.756364 \nL 42.468735 200.636883 \nL 42.497044 214.756364 \nL 43.459548 214.756364 \nL 43.473702 200.636883 \nL 43.558629 214.756364 \nL 43.572784 214.756364 \nL 43.615247 200.636883 \nL 43.671865 214.756364 \nL 43.9408 214.756364 \nL 43.954954 200.636883 \nL 44.039881 214.756364 \nL 44.096499 214.756364 \nL 44.110654 186.517403 \nL 44.19558 214.756364 \nL 44.365434 214.756364 \nL 44.393743 186.517403 \nL 44.464515 214.756364 \nL 44.506979 214.756364 \nL 44.521133 186.517403 \nL 44.60606 214.756364 \nL 44.988231 214.756364 \nL 45.01654 200.636883 \nL 45.087312 214.756364 \nL 46.361215 214.756364 \nL 46.375369 200.636883 \nL 46.460296 214.756364 \nL 46.686768 214.756364 \nL 46.700922 186.517403 \nL 46.785849 214.756364 \nL 47.083093 214.756364 \nL 47.16802 186.517403 \nL 47.182174 214.756364 \nL 47.210483 214.756364 \nL 47.224638 200.636883 \nL 47.309565 214.756364 \nL 49.064719 214.756364 \nL 49.078874 200.636883 \nL 49.163801 214.756364 \nL 49.715825 214.756364 \nL 49.729979 200.636883 \nL 49.814906 214.756364 \nL 49.829061 214.756364 \nL 49.843215 200.636883 \nL 49.928142 214.756364 \nL 49.98476 214.756364 \nL 50.013069 200.636883 \nL 50.083841 214.756364 \nL 50.154614 214.756364 \nL 50.168768 158.278442 \nL 50.267849 200.636883 \nL 50.282004 200.636883 \nL 50.352776 214.756364 \nL 50.366931 172.397922 \nL 50.451858 214.756364 \nL 50.466012 214.756364 \nL 50.494321 172.397922 \nL 50.565093 214.756364 \nL 50.593402 214.756364 \nL 50.607557 172.397922 \nL 50.692484 214.756364 \nL 51.796533 214.756364 \nL 51.909768 186.517403 \nL 52.023004 214.756364 \nL 52.065468 214.756364 \nL 52.164549 144.158961 \nL 52.178703 186.517403 \nL 52.192858 186.517403 \nL 52.320248 214.756364 \nL 52.362711 144.158961 \nL 52.433484 200.636883 \nL 52.447638 200.636883 \nL 52.475947 186.517403 \nL 52.490102 214.756364 \nL 52.54672 200.636883 \nL 52.575029 214.756364 \nL 52.617492 200.636883 \nL 52.645801 158.278442 \nL 52.659955 214.756364 \nL 52.716573 214.756364 \nL 52.730728 214.756364 \nL 52.829809 200.636883 \nL 52.943045 214.756364 \nL 52.957199 214.756364 \nL 53.013817 186.517403 \nL 53.056281 214.756364 \nL 53.169516 214.756364 \nL 53.183671 200.636883 \nL 53.268598 214.756364 \nL 53.296907 214.756364 \nL 53.395988 200.636883 \nL 53.46676 214.756364 \nL 53.495069 200.636883 \nL 53.509224 200.636883 \nL 53.62246 214.756364 \nL 53.721541 214.756364 \nL 53.764004 186.517403 \nL 53.820622 214.756364 \nL 54.82559 214.756364 \nL 54.839744 200.636883 \nL 54.924671 214.756364 \nL 55.08037 214.756364 \nL 55.179452 200.636883 \nL 55.292687 214.756364 \nL 55.405923 214.756364 \nL 55.420078 200.636883 \nL 55.505004 214.756364 \nL 55.929639 214.756364 \nL 55.957948 200.636883 \nL 56.02872 214.756364 \nL 56.113647 214.756364 \nL 56.226883 200.636883 \nL 56.241037 200.636883 \nL 56.340118 214.756364 \nL 56.382582 172.397922 \nL 56.4392 200.636883 \nL 56.495818 214.756364 \nL 56.509972 186.517403 \nL 56.538281 200.636883 \nL 56.609053 172.397922 \nL 56.637362 200.636883 \nL 56.651517 200.636883 \nL 56.722289 214.756364 \nL 56.736444 200.636883 \nL 56.82137 186.517403 \nL 56.863834 158.278442 \nL 56.934606 214.756364 \nL 56.948761 214.756364 \nL 57.061997 200.636883 \nL 57.090305 214.756364 \nL 57.132769 115.92 \nL 57.189387 214.756364 \nL 57.203541 214.756364 \nL 57.260159 144.158961 \nL 57.302623 214.756364 \nL 57.345086 214.756364 \nL 57.444167 31.203117 \nL 57.486631 115.92 \nL 57.585712 214.756364 \nL 57.599867 200.636883 \nL 57.713102 214.756364 \nL 58.010346 214.756364 \nL 58.024501 200.636883 \nL 58.109428 214.756364 \nL 58.902078 214.756364 \nL 59.015314 200.636883 \nL 59.12855 214.756364 \nL 59.425794 214.756364 \nL 59.439948 186.517403 \nL 59.524875 214.756364 \nL 60.444916 214.756364 \nL 60.515688 200.636883 \nL 60.543997 214.756364 \nL 60.614769 214.756364 \nL 60.628924 172.397922 \nL 60.713851 214.756364 \nL 60.841241 214.756364 \nL 60.912013 200.636883 \nL 60.940322 214.756364 \nL 60.99694 214.756364 \nL 61.110176 200.636883 \nL 61.138485 172.397922 \nL 61.209257 214.756364 \nL 61.237566 158.278442 \nL 61.322493 186.517403 \nL 61.364956 172.397922 \nL 61.449883 214.756364 \nL 61.775436 214.756364 \nL 61.902826 144.158961 \nL 62.030217 214.756364 \nL 62.143452 158.278442 \nL 62.157607 186.517403 \nL 62.185916 130.039481 \nL 62.284997 214.756364 \nL 62.299152 172.397922 \nL 62.398233 200.636883 \nL 62.511469 214.756364 \nL 63.516436 214.756364 \nL 63.629672 200.636883 \nL 63.742908 214.756364 \nL 65.144201 214.756364 \nL 65.200819 186.517403 \nL 65.243282 214.756364 \nL 65.498063 214.756364 \nL 65.512217 172.397922 \nL 65.597144 200.636883 \nL 65.682071 214.756364 \nL 65.696225 200.636883 \nL 65.71038 200.636883 \nL 65.823615 214.756364 \nL 65.866079 186.517403 \nL 65.922697 214.756364 \nL 66.09255 214.756364 \nL 66.106705 172.397922 \nL 66.205786 200.636883 \nL 66.219941 200.636883 \nL 66.304868 214.756364 \nL 66.347331 186.517403 \nL 66.418103 200.636883 \nL 66.531339 214.756364 \nL 66.559648 214.756364 \nL 66.616266 200.636883 \nL 66.658729 214.756364 \nL 66.743656 214.756364 \nL 66.800274 186.517403 \nL 66.842737 200.636883 \nL 66.871046 186.517403 \nL 66.927664 214.756364 \nL 66.955973 172.397922 \nL 67.0409 186.517403 \nL 67.16829 214.756364 \nL 67.295681 172.397922 \nL 67.394762 214.756364 \nL 67.408916 186.517403 \nL 67.45138 172.397922 \nL 67.522152 214.756364 \nL 67.57877 158.278442 \nL 67.635388 200.636883 \nL 67.663697 200.636883 \nL 67.677851 186.517403 \nL 67.692006 214.756364 \nL 67.748624 214.756364 \nL 67.819396 214.756364 \nL 67.946786 186.517403 \nL 68.060022 214.756364 \nL 68.11664 144.158961 \nL 68.173258 158.278442 \nL 68.258185 214.756364 \nL 68.286494 200.636883 \nL 68.314803 172.397922 \nL 68.371421 214.756364 \nL 68.456347 172.397922 \nL 68.470502 200.636883 \nL 68.52712 214.756364 \nL 68.541274 200.636883 \nL 68.612047 144.158961 \nL 68.569583 214.756364 \nL 68.640356 214.756364 \nL 68.668665 214.756364 \nL 68.739437 144.158961 \nL 68.7819 172.397922 \nL 68.909291 214.756364 \nL 69.050835 172.397922 \nL 69.107453 200.636883 \nL 69.121608 172.397922 \nL 69.135762 130.039481 \nL 69.164071 214.756364 \nL 69.220689 200.636883 \nL 69.234843 200.636883 \nL 69.348079 214.756364 \nL 69.617014 214.756364 \nL 69.701941 200.636883 \nL 69.716096 214.756364 \nL 69.73025 214.756364 \nL 69.744404 200.636883 \nL 69.829331 214.756364 \nL 70.225657 214.756364 \nL 70.239811 186.517403 \nL 70.324738 200.636883 \nL 70.437974 214.756364 \nL 70.537055 214.756364 \nL 70.551209 200.636883 \nL 70.636136 214.756364 \nL 71.046616 214.756364 \nL 71.06077 200.636883 \nL 71.145697 214.756364 \nL 71.202315 214.756364 \nL 71.273088 200.636883 \nL 71.301397 214.756364 \nL 71.358014 214.756364 \nL 71.442941 200.636883 \nL 71.457096 214.756364 \nL 71.47125 214.756364 \nL 71.556177 172.397922 \nL 71.570332 186.517403 \nL 71.655258 172.397922 \nL 71.683567 214.756364 \nL 71.796803 214.756364 \nL 71.895884 200.636883 \nL 72.00912 214.756364 \nL 72.235592 214.756364 \nL 72.263901 172.397922 \nL 72.334673 200.636883 \nL 72.447909 214.756364 \nL 72.929161 214.756364 \nL 73.014088 200.636883 \nL 73.028242 214.756364 \nL 73.169787 214.756364 \nL 73.183941 172.397922 \nL 73.268868 200.636883 \nL 73.382104 214.756364 \nL 73.509494 214.756364 \nL 73.523649 200.636883 \nL 73.608576 214.756364 \nL 74.231372 214.756364 \nL 74.245527 200.636883 \nL 74.330454 214.756364 \nL 74.670161 214.756364 \nL 74.769242 115.92 \nL 74.882478 214.756364 \nL 75.250495 214.756364 \nL 75.36373 172.397922 \nL 75.462812 214.756364 \nL 75.476966 200.636883 \nL 75.576047 214.756364 \nL 75.64682 200.636883 \nL 75.675129 214.756364 \nL 75.689283 214.756364 \nL 75.703438 200.636883 \nL 75.788365 214.756364 \nL 75.844982 214.756364 \nL 75.859137 200.636883 \nL 75.944064 214.756364 \nL 76.071454 214.756364 \nL 76.18469 200.636883 \nL 76.198844 200.636883 \nL 76.269617 172.397922 \nL 76.31208 214.756364 \nL 76.340389 214.756364 \nL 76.368698 186.517403 \nL 76.43947 214.756364 \nL 76.552706 214.756364 \nL 76.665942 200.636883 \nL 76.680096 200.636883 \nL 76.72256 172.397922 \nL 76.793332 214.756364 \nL 76.807487 214.756364 \nL 76.835796 186.517403 \nL 76.920722 200.636883 \nL 77.033958 214.756364 \nL 77.062267 214.756364 \nL 77.147194 186.517403 \nL 77.161348 214.756364 \nL 77.189657 214.756364 \nL 77.288739 200.636883 \nL 77.401974 214.756364 \nL 77.416129 214.756364 \nL 77.529365 200.636883 \nL 77.642601 214.756364 \nL 77.685064 214.756364 \nL 77.741682 186.517403 \nL 77.7983 200.636883 \nL 77.911535 214.756364 \nL 77.939844 214.756364 \nL 77.953999 200.636883 \nL 78.038926 214.756364 \nL 78.05308 214.756364 \nL 78.152162 186.517403 \nL 78.194625 158.278442 \nL 78.265397 214.756364 \nL 78.279552 214.756364 \nL 78.293706 200.636883 \nL 78.378633 214.756364 \nL 78.534332 214.756364 \nL 78.619259 186.517403 \nL 78.633414 214.756364 \nL 78.647568 214.756364 \nL 78.690032 186.517403 \nL 78.746649 214.756364 \nL 78.916503 214.756364 \nL 78.944812 186.517403 \nL 79.015584 200.636883 \nL 79.058048 172.397922 \nL 79.12882 214.756364 \nL 79.482682 214.756364 \nL 79.553454 172.397922 \nL 79.610072 186.517403 \nL 79.624227 186.517403 \nL 79.751617 214.756364 \nL 79.765771 200.636883 \nL 79.850698 214.756364 \nL 79.978089 214.756364 \nL 80.091324 200.636883 \nL 80.105479 200.636883 \nL 80.176251 186.517403 \nL 80.218715 214.756364 \nL 80.33195 200.636883 \nL 80.445186 214.756364 \nL 80.48765 214.756364 \nL 80.501804 200.636883 \nL 80.586731 214.756364 \nL 80.685812 214.756364 \nL 80.699967 200.636883 \nL 80.784894 214.756364 \nL 80.813202 214.756364 \nL 80.926438 200.636883 \nL 81.011365 214.756364 \nL 81.02552 172.397922 \nL 81.110446 214.756364 \nL 81.223682 214.756364 \nL 81.322764 200.636883 \nL 81.435999 214.756364 \nL 81.676625 214.756364 \nL 81.69078 200.636883 \nL 81.775707 214.756364 \nL 81.789861 214.756364 \nL 81.860634 200.636883 \nL 81.888942 214.756364 \nL 82.058796 214.756364 \nL 82.157877 186.517403 \nL 82.271113 214.756364 \nL 82.313577 214.756364 \nL 82.412658 186.517403 \nL 82.525894 214.756364 \nL 82.624975 214.756364 \nL 82.63913 200.636883 \nL 82.724056 214.756364 \nL 82.808983 214.756364 \nL 82.908065 200.636883 \nL 83.007146 214.756364 \nL 83.092073 158.278442 \nL 83.106227 186.517403 \nL 83.219463 214.756364 \nL 83.346853 214.756364 \nL 83.375162 186.517403 \nL 83.445934 214.756364 \nL 83.474243 214.756364 \nL 83.502552 87.681039 \nL 83.573325 214.756364 \nL 83.884723 214.756364 \nL 83.96965 200.636883 \nL 83.983804 214.756364 \nL 84.012113 214.756364 \nL 84.111195 186.517403 \nL 84.125349 200.636883 \nL 84.181967 186.517403 \nL 84.224431 214.756364 \nL 84.337666 186.517403 \nL 84.351821 186.517403 \nL 84.365975 214.756364 \nL 84.436748 172.397922 \nL 84.465057 144.158961 \nL 84.493366 214.756364 \nL 84.535829 214.756364 \nL 84.564138 144.158961 \nL 84.63491 158.278442 \nL 84.748146 214.756364 \nL 84.861382 214.756364 \nL 84.875536 172.397922 \nL 84.974618 200.636883 \nL 85.002927 200.636883 \nL 85.073699 172.397922 \nL 85.087853 186.517403 \nL 85.102008 214.756364 \nL 85.201089 200.636883 \nL 85.314325 214.756364 \nL 85.45587 214.756364 \nL 85.540797 130.039481 \nL 85.569105 200.636883 \nL 85.611569 158.278442 \nL 85.682341 214.756364 \nL 85.71065 172.397922 \nL 85.781423 214.756364 \nL 86.036203 214.756364 \nL 86.050358 200.636883 \nL 86.135284 214.756364 \nL 86.177748 214.756364 \nL 86.262675 186.517403 \nL 86.276829 214.756364 \nL 86.305138 214.756364 \nL 86.333447 186.517403 \nL 86.404219 214.756364 \nL 86.418374 214.756364 \nL 86.503301 200.636883 \nL 86.517455 214.756364 \nL 86.843008 214.756364 \nL 86.857163 200.636883 \nL 86.942089 214.756364 \nL 86.970398 214.756364 \nL 87.06948 200.636883 \nL 87.097789 214.756364 \nL 87.111943 186.517403 \nL 87.154406 186.517403 \nL 87.168561 158.278442 \nL 87.19687 214.756364 \nL 87.253488 200.636883 \nL 87.310106 172.397922 \nL 87.295951 214.756364 \nL 87.352569 186.517403 \nL 87.395033 214.756364 \nL 87.409187 158.278442 \nL 87.45165 101.800519 \nL 87.494114 214.756364 \nL 87.508268 214.756364 \nL 87.536577 172.397922 \nL 87.60735 214.756364 \nL 87.819667 214.756364 \nL 87.847976 45.322597 \nL 87.918748 214.756364 \nL 87.947057 214.756364 \nL 87.975366 200.636883 \nL 88.046138 214.756364 \nL 88.668935 214.756364 \nL 88.768016 186.517403 \nL 88.782171 200.636883 \nL 88.852943 200.636883 \nL 88.966179 214.756364 \nL 88.980334 214.756364 \nL 89.079415 172.397922 \nL 89.093569 200.636883 \nL 89.107724 200.636883 \nL 89.22096 214.756364 \nL 89.235114 214.756364 \nL 89.320041 172.397922 \nL 89.34835 200.636883 \nL 89.419122 186.517403 \nL 89.433277 214.756364 \nL 89.447431 172.397922 \nL 89.546512 200.636883 \nL 89.60313 214.756364 \nL 89.645594 158.278442 \nL 89.75883 214.756364 \nL 89.772984 214.756364 \nL 89.88622 200.636883 \nL 89.999456 214.756364 \nL 90.268391 214.756364 \nL 90.282545 200.636883 \nL 90.367472 214.756364 \nL 90.409935 214.756364 \nL 90.466553 186.517403 \nL 90.523171 200.636883 \nL 90.55148 200.636883 \nL 90.664716 214.756364 \nL 90.820415 214.756364 \nL 90.933651 172.397922 \nL 90.947805 186.517403 \nL 91.018578 214.756364 \nL 91.046887 186.517403 \nL 91.061041 172.397922 \nL 91.075196 214.756364 \nL 91.117659 200.636883 \nL 91.188431 214.756364 \nL 91.21674 200.636883 \nL 91.245049 214.756364 \nL 91.344131 158.278442 \nL 91.443212 144.158961 \nL 91.471521 214.756364 \nL 91.49983 214.756364 \nL 91.542293 186.517403 \nL 91.598911 214.756364 \nL 91.641374 214.756364 \nL 91.655529 200.636883 \nL 91.740456 214.756364 \nL 91.75461 214.756364 \nL 91.768765 158.278442 \nL 91.853692 214.756364 \nL 92.051854 214.756364 \nL 92.16509 200.636883 \nL 92.179244 200.636883 \nL 92.29248 214.756364 \nL 92.462334 214.756364 \nL 92.561415 186.517403 \nL 92.674651 214.756364 \nL 92.858659 214.756364 \nL 92.943586 115.92 \nL 92.95774 172.397922 \nL 93.070976 214.756364 \nL 93.085131 214.756364 \nL 93.11344 17.083636 \nL 93.212521 59.442078 \nL 93.283293 214.756364 \nL 93.311602 17.083636 \nL 93.325757 73.561558 \nL 93.481456 214.756364 \nL 94.302415 214.756364 \nL 94.429806 172.397922 \nL 94.514733 214.756364 \nL 94.543041 200.636883 \nL 94.557196 200.636883 \nL 94.613814 172.397922 \nL 94.585505 214.756364 \nL 94.642123 214.756364 \nL 95.024294 214.756364 \nL 95.095066 200.636883 \nL 95.123375 214.756364 \nL 95.321537 214.756364 \nL 95.420619 200.636883 \nL 95.5197 214.756364 \nL 95.576318 186.517403 \nL 95.618781 214.756364 \nL 95.64709 214.756364 \nL 95.732017 186.517403 \nL 95.760326 200.636883 \nL 95.873562 214.756364 \nL 96.255733 214.756364 \nL 96.368968 186.517403 \nL 96.496359 214.756364 \nL 96.694521 214.756364 \nL 96.736985 186.517403 \nL 96.793603 214.756364 \nL 97.4164 214.756364 \nL 97.501326 200.636883 \nL 97.515481 214.756364 \nL 97.557944 214.756364 \nL 97.685334 172.397922 \nL 97.826879 214.756364 \nL 98.08166 214.756364 \nL 98.095814 200.636883 \nL 98.180741 214.756364 \nL 98.223204 214.756364 \nL 98.251513 200.636883 \nL 98.322286 214.756364 \nL 98.534603 214.756364 \nL 98.548757 200.636883 \nL 98.633684 214.756364 \nL 98.831847 214.756364 \nL 98.916774 200.636883 \nL 98.930928 214.756364 \nL 99.129091 214.756364 \nL 99.143245 200.636883 \nL 99.228172 214.756364 \nL 99.270635 214.756364 \nL 99.28479 186.517403 \nL 99.369717 214.756364 \nL 99.398026 214.756364 \nL 99.41218 200.636883 \nL 99.497107 214.756364 \nL 99.865123 214.756364 \nL 99.879278 186.517403 \nL 99.964205 214.756364 \nL 100.148213 214.756364 \nL 100.247294 200.636883 \nL 100.36053 214.756364 \nL 100.402993 214.756364 \nL 100.417148 200.636883 \nL 100.502075 214.756364 \nL 100.544538 214.756364 \nL 100.61531 200.636883 \nL 100.643619 214.756364 \nL 100.742701 214.756364 \nL 100.855936 200.636883 \nL 100.884245 200.636883 \nL 100.997481 214.756364 \nL 101.181489 214.756364 \nL 101.294725 200.636883 \nL 101.407961 214.756364 \nL 101.917522 214.756364 \nL 101.97414 200.636883 \nL 102.016603 214.756364 \nL 102.328002 214.756364 \nL 102.342156 200.636883 \nL 102.427083 214.756364 \nL 102.681864 214.756364 \nL 102.710172 200.636883 \nL 102.780945 214.756364 \nL 102.837563 214.756364 \nL 102.851717 200.636883 \nL 102.936644 214.756364 \nL 102.993262 214.756364 \nL 103.007416 200.636883 \nL 103.092343 214.756364 \nL 103.134807 214.756364 \nL 103.148961 200.636883 \nL 103.233888 214.756364 \nL 103.432051 214.756364 \nL 103.446205 200.636883 \nL 103.531132 214.756364 \nL 104.054847 214.756364 \nL 104.069002 200.636883 \nL 104.153929 214.756364 \nL 104.394555 214.756364 \nL 104.408709 200.636883 \nL 104.493636 214.756364 \nL 105.158896 214.756364 \nL 105.215514 200.636883 \nL 105.257978 214.756364 \nL 105.640148 214.756364 \nL 105.654303 186.517403 \nL 105.73923 214.756364 \nL 105.937392 214.756364 \nL 105.99401 186.517403 \nL 106.036474 214.756364 \nL 106.078937 214.756364 \nL 106.093092 200.636883 \nL 106.178018 214.756364 \nL 106.53188 214.756364 \nL 106.546035 200.636883 \nL 106.630962 214.756364 \nL 106.899897 214.756364 \nL 106.914051 200.636883 \nL 106.998978 214.756364 \nL 107.848246 214.756364 \nL 107.862401 200.636883 \nL 107.947328 214.756364 \nL 108.216263 214.756364 \nL 108.27288 186.517403 \nL 108.329498 200.636883 \nL 108.343653 200.636883 \nL 108.456889 214.756364 \nL 108.739978 214.756364 \nL 108.768287 158.278442 \nL 108.853214 200.636883 \nL 108.867368 186.517403 \nL 108.881523 214.756364 \nL 108.938141 214.756364 \nL 110.806531 214.756364 \nL 110.820686 200.636883 \nL 110.905612 214.756364 \nL 111.6558 214.756364 \nL 111.740726 200.636883 \nL 111.754881 214.756364 \nL 111.839808 214.756364 \nL 111.853962 200.636883 \nL 111.938889 214.756364 \nL 112.108743 214.756364 \nL 112.122897 200.636883 \nL 112.207824 214.756364 \nL 112.221978 214.756364 \nL 112.278596 158.278442 \nL 112.32106 200.636883 \nL 112.434296 214.756364 \nL 112.561686 144.158961 \nL 112.674922 214.756364 \nL 112.788157 172.397922 \nL 112.901393 214.756364 \nL 113.977133 214.756364 \nL 113.991288 200.636883 \nL 114.076214 214.756364 \nL 114.217759 214.756364 \nL 114.31684 200.636883 \nL 114.430076 214.756364 \nL 114.500849 214.756364 \nL 114.529158 200.636883 \nL 114.59993 214.756364 \nL 114.628239 214.756364 \nL 114.72732 144.158961 \nL 114.798093 130.039481 \nL 114.840556 214.756364 \nL 114.897174 214.756364 \nL 114.911328 172.397922 \nL 114.996255 200.636883 \nL 115.038719 186.517403 \nL 115.109491 214.756364 \nL 115.194418 200.636883 \nL 115.208572 214.756364 \nL 115.222727 214.756364 \nL 115.279345 172.397922 \nL 115.321808 200.636883 \nL 115.350117 158.278442 \nL 115.435044 214.756364 \nL 115.449198 214.756364 \nL 115.491662 200.636883 \nL 115.54828 214.756364 \nL 115.562434 214.756364 \nL 115.604898 200.636883 \nL 115.661515 214.756364 \nL 115.718133 214.756364 \nL 115.732288 200.636883 \nL 115.817215 214.756364 \nL 115.873833 214.756364 \nL 115.887987 200.636883 \nL 115.972914 214.756364 \nL 116.298467 214.756364 \nL 116.369239 186.517403 \nL 116.411702 200.636883 \nL 116.425857 200.636883 \nL 116.539093 214.756364 \nL 116.708946 214.756364 \nL 116.793873 200.636883 \nL 116.808028 214.756364 \nL 116.836337 214.756364 \nL 116.850491 200.636883 \nL 116.935418 214.756364 \nL 116.949572 214.756364 \nL 117.00619 172.397922 \nL 117.062808 200.636883 \nL 117.176044 214.756364 \nL 117.232662 172.397922 \nL 117.28928 200.636883 \nL 117.331743 200.636883 \nL 117.402516 214.756364 \nL 117.430825 200.636883 \nL 117.529906 158.278442 \nL 117.487442 214.756364 \nL 117.54406 186.517403 \nL 117.643142 214.756364 \nL 117.600678 172.397922 \nL 117.657296 200.636883 \nL 117.742223 214.756364 \nL 117.784686 115.92 \nL 117.841304 214.756364 \nL 117.869613 214.756364 \nL 118.039467 115.92 \nL 118.166857 214.756364 \nL 118.322556 214.756364 \nL 118.336711 200.636883 \nL 118.421638 214.756364 \nL 118.591491 214.756364 \nL 118.6198 186.517403 \nL 118.690573 214.756364 \nL 119.072743 214.756364 \nL 119.086898 200.636883 \nL 119.171825 214.756364 \nL 119.553996 214.756364 \nL 119.56815 172.397922 \nL 119.653077 214.756364 \nL 119.667231 214.756364 \nL 119.723849 172.397922 \nL 119.780467 186.517403 \nL 119.851239 158.278442 \nL 119.893703 214.756364 \nL 120.077711 214.756364 \nL 120.190947 158.278442 \nL 120.304183 214.756364 \nL 120.403264 200.636883 \nL 120.474036 214.756364 \nL 120.601427 158.278442 \nL 120.714662 214.756364 \nL 120.983597 214.756364 \nL 121.05437 200.636883 \nL 121.082679 214.756364 \nL 121.153451 214.756364 \nL 121.266687 144.158961 \nL 121.365768 214.756364 \nL 121.379923 172.397922 \nL 121.394077 172.397922 \nL 121.464849 214.756364 \nL 121.493158 186.517403 \nL 121.563931 130.039481 \nL 121.535622 214.756364 \nL 121.59224 214.756364 \nL 121.648858 214.756364 \nL 121.663012 186.517403 \nL 121.747939 214.756364 \nL 123.149232 214.756364 \nL 123.248313 186.517403 \nL 123.262467 200.636883 \nL 123.375703 214.756364 \nL 123.602175 214.756364 \nL 123.672947 200.636883 \nL 123.701256 214.756364 \nL 123.715411 214.756364 \nL 123.800337 200.636883 \nL 123.814492 214.756364 \nL 123.856955 214.756364 \nL 123.970191 200.636883 \nL 124.055118 214.756364 \nL 124.069272 200.636883 \nL 124.083427 200.636883 \nL 124.168354 172.397922 \nL 124.111736 214.756364 \nL 124.182508 200.636883 \nL 124.295744 214.756364 \nL 124.394825 186.517403 \nL 124.40898 200.636883 \nL 124.522216 214.756364 \nL 124.578834 214.756364 \nL 124.621297 200.636883 \nL 124.677915 214.756364 \nL 124.762842 214.756364 \nL 124.776996 172.397922 \nL 124.861923 214.756364 \nL 124.890232 214.756364 \nL 124.961004 186.517403 \nL 125.003468 200.636883 \nL 125.017622 186.517403 \nL 125.031777 214.756364 \nL 125.088395 214.756364 \nL 125.145012 214.756364 \nL 125.258248 172.397922 \nL 125.371484 214.756364 \nL 125.385638 214.756364 \nL 125.456411 200.636883 \nL 125.48472 214.756364 \nL 125.527183 214.756364 \nL 125.569647 158.278442 \nL 125.640419 186.517403 \nL 125.697037 214.756364 \nL 125.711191 172.397922 \nL 125.7395 200.636883 \nL 125.753655 186.517403 \nL 125.767809 214.756364 \nL 125.824427 214.756364 \nL 125.923508 214.756364 \nL 125.994281 158.278442 \nL 126.036744 200.636883 \nL 126.050899 214.756364 \nL 126.079208 200.636883 \nL 126.135826 214.756364 \nL 126.192443 101.800519 \nL 126.263216 214.756364 \nL 126.305679 144.158961 \nL 126.418915 214.756364 \nL 126.503842 172.397922 \nL 126.532151 186.517403 \nL 126.546305 186.517403 \nL 126.602923 172.397922 \nL 126.574614 200.636883 \nL 126.631232 200.636883 \nL 126.673696 214.756364 \nL 126.702004 200.636883 \nL 126.716159 172.397922 \nL 126.730313 214.756364 \nL 126.801086 214.756364 \nL 126.829395 214.756364 \nL 126.928476 144.158961 \nL 126.942631 200.636883 \nL 127.013403 214.756364 \nL 126.970939 186.517403 \nL 127.041712 200.636883 \nL 127.055866 200.636883 \nL 127.140793 186.517403 \nL 127.169102 214.756364 \nL 127.183257 214.756364 \nL 127.310647 172.397922 \nL 127.409728 214.756364 \nL 127.381419 130.039481 \nL 127.423883 200.636883 \nL 127.452192 200.636883 \nL 127.565427 214.756364 \nL 127.706972 214.756364 \nL 127.721127 200.636883 \nL 127.806053 214.756364 \nL 127.848517 214.756364 \nL 127.862671 186.517403 \nL 127.947598 214.756364 \nL 128.287305 214.756364 \nL 128.30146 186.517403 \nL 128.386387 200.636883 \nL 128.499623 214.756364 \nL 128.612858 214.756364 \nL 128.655322 200.636883 \nL 128.71194 214.756364 \nL 128.853484 214.756364 \nL 128.867639 200.636883 \nL 128.952566 214.756364 \nL 129.122419 214.756364 \nL 129.235655 158.278442 \nL 129.24981 186.517403 \nL 129.334736 172.397922 \nL 129.363045 214.756364 \nL 129.391354 172.397922 \nL 129.476281 200.636883 \nL 129.589517 214.756364 \nL 129.617826 214.756364 \nL 129.63198 172.397922 \nL 129.716907 186.517403 \nL 129.830143 214.756364 \nL 129.957533 214.756364 \nL 129.999997 144.158961 \nL 130.070769 200.636883 \nL 130.084924 200.636883 \nL 130.113233 158.278442 \nL 130.184005 186.517403 \nL 130.297241 214.756364 \nL 130.537867 214.756364 \nL 130.622794 172.397922 \nL 130.651102 186.517403 \nL 130.679411 172.397922 \nL 130.764338 214.756364 \nL 130.806802 144.158961 \nL 130.86342 214.756364 \nL 131.089891 214.756364 \nL 131.203127 200.636883 \nL 131.273899 214.756364 \nL 131.288054 186.517403 \nL 131.302208 186.517403 \nL 131.415444 214.756364 \nL 131.429599 214.756364 \nL 131.52868 158.278442 \nL 131.542834 200.636883 \nL 131.641916 214.756364 \nL 131.65607 158.278442 \nL 131.740997 214.756364 \nL 131.93916 214.756364 \nL 131.953314 200.636883 \nL 132.038241 214.756364 \nL 132.052395 214.756364 \nL 132.165631 200.636883 \nL 132.278867 214.756364 \nL 132.293021 214.756364 \nL 132.307176 172.397922 \nL 132.392103 214.756364 \nL 132.462875 214.756364 \nL 132.576111 200.636883 \nL 132.689347 214.756364 \nL 132.703501 214.756364 \nL 132.717656 200.636883 \nL 132.802582 214.756364 \nL 132.887509 214.756364 \nL 133.000745 200.636883 \nL 133.0149 200.636883 \nL 133.128135 214.756364 \nL 133.241371 214.756364 \nL 133.354607 200.636883 \nL 133.368761 200.636883 \nL 133.481997 214.756364 \nL 133.524461 214.756364 \nL 133.637696 200.636883 \nL 133.651851 200.636883 \nL 133.666005 186.517403 \nL 133.68016 214.756364 \nL 133.736778 214.756364 \nL 133.878322 214.756364 \nL 133.892477 200.636883 \nL 133.977404 214.756364 \nL 134.062331 214.756364 \nL 134.133103 200.636883 \nL 134.161412 214.756364 \nL 134.175566 214.756364 \nL 134.288802 158.278442 \nL 134.402038 214.756364 \nL 134.557737 214.756364 \nL 134.571892 200.636883 \nL 134.656818 214.756364 \nL 134.670973 214.756364 \nL 134.685127 200.636883 \nL 134.770054 214.756364 \nL 135.13807 214.756364 \nL 135.222997 200.636883 \nL 135.237152 214.756364 \nL 135.265461 214.756364 \nL 135.364542 186.517403 \nL 135.477778 214.756364 \nL 135.491932 214.756364 \nL 135.562705 186.517403 \nL 135.591014 214.756364 \nL 135.605168 214.756364 \nL 135.704249 172.397922 \nL 135.718404 200.636883 \nL 135.760867 172.397922 \nL 135.817485 214.756364 \nL 135.859949 158.278442 \nL 135.930721 200.636883 \nL 135.944875 200.636883 \nL 136.058111 214.756364 \nL 136.08642 172.397922 \nL 136.157193 200.636883 \nL 136.21381 172.397922 \nL 136.256274 214.756364 \nL 136.341201 186.517403 \nL 136.355355 200.636883 \nL 136.468591 214.756364 \nL 136.610136 214.756364 \nL 136.62429 158.278442 \nL 136.709217 214.756364 \nL 136.992306 214.756364 \nL 137.006461 200.636883 \nL 137.091388 214.756364 \nL 137.105542 214.756364 \nL 137.204624 186.517403 \nL 137.317859 214.756364 \nL 137.431095 200.636883 \nL 137.544331 214.756364 \nL 137.813266 214.756364 \nL 137.898193 200.636883 \nL 137.912347 214.756364 \nL 137.926502 214.756364 \nL 138.011429 158.278442 \nL 138.025583 172.397922 \nL 138.039737 214.756364 \nL 138.138819 186.517403 \nL 138.167128 172.397922 \nL 138.223746 214.756364 \nL 138.336981 101.800519 \nL 138.464372 214.756364 \nL 138.719152 214.756364 \nL 138.77577 130.039481 \nL 138.818234 200.636883 \nL 138.931469 214.756364 \nL 139.568421 214.756364 \nL 139.681656 200.636883 \nL 139.72412 200.636883 \nL 139.837356 214.756364 \nL 139.85151 214.756364 \nL 139.908128 172.397922 \nL 139.964746 200.636883 \nL 140.077982 214.756364 \nL 140.120445 214.756364 \nL 140.219526 172.397922 \nL 140.26199 214.756364 \nL 140.332762 200.636883 \nL 140.346917 214.756364 \nL 140.375226 186.517403 \nL 140.431843 200.636883 \nL 140.488461 214.756364 \nL 140.545079 130.039481 \nL 140.658315 214.756364 \nL 140.672469 186.517403 \nL 140.757396 214.756364 \nL 140.785705 214.756364 \nL 140.814014 200.636883 \nL 140.884787 214.756364 \nL 141.153722 214.756364 \nL 141.167876 200.636883 \nL 141.252803 214.756364 \nL 141.295266 214.756364 \nL 141.380193 186.517403 \nL 141.408502 200.636883 \nL 141.521738 214.756364 \nL 141.634974 214.756364 \nL 141.748209 172.397922 \nL 141.833136 214.756364 \nL 141.804827 158.278442 \nL 141.847291 200.636883 \nL 141.889754 172.397922 \nL 141.903909 214.756364 \nL 141.946372 214.756364 \nL 142.00299 214.756364 \nL 142.102071 158.278442 \nL 142.116226 200.636883 \nL 142.186998 172.397922 \nL 142.229462 214.756364 \nL 142.243616 186.517403 \nL 142.328543 200.636883 \nL 142.441779 214.756364 \nL 142.470088 214.756364 \nL 142.484242 200.636883 \nL 142.569169 214.756364 \nL 142.710714 214.756364 \nL 142.724868 158.278442 \nL 142.809795 214.756364 \nL 143.007958 214.756364 \nL 143.121193 200.636883 \nL 143.234429 214.756364 \nL 143.347665 200.636883 \nL 143.460901 214.756364 \nL 143.517519 214.756364 \nL 143.574136 200.636883 \nL 143.6166 214.756364 \nL 143.644909 214.756364 \nL 143.659063 200.636883 \nL 143.74399 214.756364 \nL 143.843071 214.756364 \nL 143.927998 158.278442 \nL 143.942153 214.756364 \nL 143.970462 214.756364 \nL 144.083698 17.083636 \nL 144.097852 101.800519 \nL 144.168624 214.756364 \nL 144.196933 87.681039 \nL 144.296015 214.756364 \nL 144.225242 31.203117 \nL 144.310169 158.278442 \nL 144.324324 17.083636 \nL 144.352633 214.756364 \nL 144.40925 214.756364 \nL 144.706494 214.756364 \nL 144.720649 158.278442 \nL 144.81973 200.636883 \nL 144.932966 214.756364 \nL 144.94712 186.517403 \nL 145.032047 214.756364 \nL 145.131129 214.756364 \nL 145.145283 200.636883 \nL 145.23021 214.756364 \nL 145.244364 214.756364 \nL 145.258519 186.517403 \nL 145.343446 214.756364 \nL 145.3576 214.756364 \nL 145.385909 158.278442 \nL 145.470836 200.636883 \nL 145.541608 214.756364 \nL 145.555763 200.636883 \nL 145.626535 186.517403 \nL 145.584072 214.756364 \nL 145.654844 200.636883 \nL 145.76808 214.756364 \nL 146.348413 214.756364 \nL 146.362568 200.636883 \nL 146.447495 214.756364 \nL 146.56073 214.756364 \nL 146.603194 200.636883 \nL 146.659812 214.756364 \nL 146.787202 214.756364 \nL 146.900438 200.636883 \nL 147.013673 214.756364 \nL 147.056137 214.756364 \nL 147.169373 200.636883 \nL 147.282608 214.756364 \nL 147.523234 214.756364 \nL 147.63647 200.636883 \nL 147.707243 186.517403 \nL 147.749706 214.756364 \nL 147.820478 200.636883 \nL 147.848787 214.756364 \nL 147.862942 214.756364 \nL 147.962023 200.636883 \nL 148.075259 214.756364 \nL 148.330039 214.756364 \nL 148.414966 200.636883 \nL 148.429121 214.756364 \nL 148.570666 214.756364 \nL 148.683901 200.636883 \nL 148.797137 214.756364 \nL 148.811292 200.636883 \nL 148.896218 214.756364 \nL 149.009454 214.756364 \nL 149.023609 200.636883 \nL 149.108535 214.756364 \nL 149.519015 214.756364 \nL 149.547324 101.800519 \nL 149.618097 214.756364 \nL 149.646405 214.756364 \nL 149.66056 200.636883 \nL 149.745487 214.756364 \nL 149.759641 214.756364 \nL 149.78795 144.158961 \nL 149.858723 158.278442 \nL 149.929495 214.756364 \nL 149.943649 101.800519 \nL 149.971958 186.517403 \nL 150.042731 214.756364 \nL 150.028576 101.800519 \nL 150.07104 200.636883 \nL 150.113503 214.756364 \nL 150.170121 158.278442 \nL 150.283357 214.756364 \nL 150.297511 214.756364 \nL 150.396593 158.278442 \nL 150.410747 200.636883 \nL 150.45321 186.517403 \nL 150.523983 214.756364 \nL 150.552292 214.756364 \nL 150.623064 200.636883 \nL 150.651373 214.756364 \nL 150.665528 214.756364 \nL 150.778763 172.397922 \nL 150.906154 214.756364 \nL 150.99108 130.039481 \nL 151.033544 186.517403 \nL 151.104316 214.756364 \nL 151.090162 172.397922 \nL 151.132625 200.636883 \nL 151.14678 172.397922 \nL 151.160934 214.756364 \nL 151.245861 186.517403 \nL 151.373251 214.756364 \nL 151.387406 186.517403 \nL 151.472333 214.756364 \nL 151.52895 214.756364 \nL 151.628032 144.158961 \nL 151.642186 172.397922 \nL 151.670495 144.158961 \nL 151.783731 214.756364 \nL 151.981894 214.756364 \nL 152.010202 172.397922 \nL 152.080975 214.756364 \nL 152.095129 214.756364 \nL 152.151747 200.636883 \nL 152.194211 214.756364 \nL 152.208365 214.756364 \nL 152.22252 200.636883 \nL 152.307446 214.756364 \nL 152.817007 214.756364 \nL 152.916089 172.397922 \nL 152.986861 214.756364 \nL 153.029325 200.636883 \nL 153.043479 200.636883 \nL 153.128406 214.756364 \nL 153.14256 200.636883 \nL 153.170869 200.636883 \nL 153.284105 214.756364 \nL 153.29826 214.756364 \nL 153.340723 172.397922 \nL 153.397341 214.756364 \nL 153.42565 214.756364 \nL 153.439804 101.800519 \nL 153.524731 200.636883 \nL 153.538886 200.636883 \nL 153.55304 158.278442 \nL 153.595503 214.756364 \nL 153.652121 186.517403 \nL 153.666276 186.517403 \nL 153.708739 214.756364 \nL 153.751203 172.397922 \nL 153.864438 214.756364 \nL 153.949365 200.636883 \nL 153.96352 214.756364 \nL 154.048447 214.756364 \nL 154.119219 186.517403 \nL 154.161682 200.636883 \nL 154.189991 200.636883 \nL 154.232455 214.756364 \nL 154.2183 186.517403 \nL 154.274918 186.517403 \nL 154.331536 172.397922 \nL 154.303227 200.636883 \nL 154.359845 186.517403 \nL 154.430617 214.756364 \nL 154.444772 130.039481 \nL 154.543853 186.517403 \nL 154.657089 214.756364 \nL 154.671243 214.756364 \nL 154.798634 130.039481 \nL 154.911869 214.756364 \nL 155.010951 200.636883 \nL 155.081723 214.756364 \nL 155.110032 200.636883 \nL 155.152496 214.756364 \nL 155.223268 158.278442 \nL 155.336504 214.756364 \nL 155.421431 200.636883 \nL 155.435585 214.756364 \nL 155.506357 214.756364 \nL 155.520512 200.636883 \nL 155.605439 214.756364 \nL 155.874374 214.756364 \nL 155.902683 172.397922 \nL 155.973455 214.756364 \nL 156.058382 214.756364 \nL 156.072536 200.636883 \nL 156.157463 214.756364 \nL 156.214081 214.756364 \nL 156.341471 73.561558 \nL 156.426398 214.756364 \nL 156.454707 172.397922 \nL 156.483016 144.158961 \nL 156.567943 214.756364 \nL 156.582097 214.756364 \nL 156.610406 186.517403 \nL 156.695333 200.636883 \nL 156.709488 200.636883 \nL 156.723642 186.517403 \nL 156.78026 214.756364 \nL 156.808569 200.636883 \nL 156.879341 214.756364 \nL 156.893496 158.278442 \nL 156.978423 200.636883 \nL 157.091658 214.756364 \nL 157.134122 214.756364 \nL 157.162431 186.517403 \nL 157.233203 214.756364 \nL 157.332284 214.756364 \nL 157.346439 200.636883 \nL 157.431366 214.756364 \nL 157.756919 214.756364 \nL 157.870154 200.636883 \nL 157.884309 200.636883 \nL 157.997545 214.756364 \nL 158.040008 214.756364 \nL 158.068317 186.517403 \nL 158.139089 214.756364 \nL 158.351406 214.756364 \nL 158.408024 200.636883 \nL 158.450488 214.756364 \nL 158.507106 214.756364 \nL 158.563724 200.636883 \nL 158.606187 214.756364 \nL 158.634496 214.756364 \nL 158.691114 200.636883 \nL 158.733577 214.756364 \nL 158.761886 214.756364 \nL 158.818504 200.636883 \nL 158.860967 214.756364 \nL 158.903431 214.756364 \nL 158.917585 186.517403 \nL 159.016667 200.636883 \nL 159.030821 200.636883 \nL 159.044976 186.517403 \nL 159.05913 214.756364 \nL 159.129902 200.636883 \nL 159.243138 214.756364 \nL 159.299756 214.756364 \nL 159.34222 200.636883 \nL 159.398837 214.756364 \nL 159.667772 214.756364 \nL 159.781008 200.636883 \nL 159.894244 214.756364 \nL 160.049943 214.756364 \nL 160.064098 200.636883 \nL 160.149025 214.756364 \nL 160.163179 214.756364 \nL 160.177334 200.636883 \nL 160.26226 214.756364 \nL 160.304724 214.756364 \nL 160.333033 200.636883 \nL 160.403805 214.756364 \nL 160.54535 214.756364 \nL 160.601968 200.636883 \nL 160.644431 214.756364 \nL 160.701049 214.756364 \nL 160.814285 200.636883 \nL 160.927521 214.756364 \nL 161.125683 214.756364 \nL 161.139838 186.517403 \nL 161.224765 214.756364 \nL 161.338 214.756364 \nL 161.352155 200.636883 \nL 161.437082 214.756364 \nL 162.300504 214.756364 \nL 162.41374 200.636883 \nL 162.526976 214.756364 \nL 162.555285 214.756364 \nL 162.69683 73.561558 \nL 162.710984 101.800519 \nL 162.810066 214.756364 \nL 162.82422 200.636883 \nL 162.866683 214.756364 \nL 162.894992 172.397922 \nL 162.909147 130.039481 \nL 162.923301 214.756364 \nL 162.994074 200.636883 \nL 163.008228 186.517403 \nL 163.093155 200.636883 \nL 163.149773 172.397922 \nL 163.206391 214.756364 \nL 163.248854 158.278442 \nL 163.305472 214.756364 \nL 163.333781 214.756364 \nL 163.447017 158.278442 \nL 163.503635 130.039481 \nL 163.560253 214.756364 \nL 163.574407 214.756364 \nL 163.631025 158.278442 \nL 163.687643 200.636883 \nL 163.715952 186.517403 \nL 163.800879 214.756364 \nL 163.857497 214.756364 \nL 163.970732 172.397922 \nL 164.083968 214.756364 \nL 164.112277 214.756364 \nL 164.197204 186.517403 \nL 164.225513 200.636883 \nL 164.324594 214.756364 \nL 164.338749 186.517403 \nL 164.423675 214.756364 \nL 164.466139 214.756364 \nL 164.536911 186.517403 \nL 164.579375 200.636883 \nL 164.650147 186.517403 \nL 164.678456 214.756364 \nL 164.706765 186.517403 \nL 164.791692 200.636883 \nL 164.876619 214.756364 \nL 164.834155 172.397922 \nL 164.890773 200.636883 \nL 164.919082 186.517403 \nL 164.961545 214.756364 \nL 164.9757 214.756364 \nL 165.032318 214.756364 \nL 165.046472 172.397922 \nL 165.131399 214.756364 \nL 165.188017 214.756364 \nL 165.315407 59.442078 \nL 165.329562 115.92 \nL 165.456952 214.756364 \nL 165.471106 214.756364 \nL 165.556033 200.636883 \nL 165.570188 214.756364 \nL 165.584342 214.756364 \nL 165.683424 144.158961 \nL 165.697578 158.278442 \nL 165.740041 45.322597 \nL 165.810814 214.756364 \nL 165.867432 214.756364 \nL 165.92405 87.681039 \nL 165.980667 200.636883 \nL 166.023131 214.756364 \nL 166.037285 172.397922 \nL 166.05144 130.039481 \nL 166.065594 214.756364 \nL 166.122212 200.636883 \nL 166.164676 214.756364 \nL 166.192985 172.397922 \nL 166.207139 200.636883 \nL 166.221294 186.517403 \nL 166.235448 214.756364 \nL 166.292066 214.756364 \nL 166.362838 214.756364 \nL 166.376993 186.517403 \nL 166.46192 214.756364 \nL 166.702546 214.756364 \nL 166.815781 17.083636 \nL 166.858245 130.039481 \nL 166.985635 214.756364 \nL 167.098871 214.756364 \nL 167.197952 200.636883 \nL 167.311188 214.756364 \nL 168.004757 214.756364 \nL 168.132147 115.92 \nL 168.188765 101.800519 \nL 168.245383 214.756364 \nL 168.273692 158.278442 \nL 168.358619 172.397922 \nL 168.471855 214.756364 \nL 168.684172 214.756364 \nL 168.797408 172.397922 \nL 168.910643 214.756364 \nL 168.924798 214.756364 \nL 168.953107 172.397922 \nL 169.023879 214.756364 \nL 169.038034 214.756364 \nL 169.122961 172.397922 \nL 169.137115 200.636883 \nL 169.222042 214.756364 \nL 169.236196 200.636883 \nL 169.27866 200.636883 \nL 169.349432 172.397922 \nL 169.335278 214.756364 \nL 169.377741 200.636883 \nL 169.391896 200.636883 \nL 169.490977 214.756364 \nL 169.505131 130.039481 \nL 169.590058 214.756364 \nL 169.604213 214.756364 \nL 169.632522 144.158961 \nL 169.703294 214.756364 \nL 169.731603 214.756364 \nL 169.788221 115.92 \nL 169.844839 186.517403 \nL 169.972229 214.756364 \nL 170.028847 214.756364 \nL 170.043001 200.636883 \nL 170.127928 214.756364 \nL 170.3544 214.756364 \nL 170.368554 200.636883 \nL 170.453481 214.756364 \nL 170.821497 214.756364 \nL 170.878115 172.397922 \nL 170.920579 214.756364 \nL 171.01966 214.756364 \nL 171.033814 172.397922 \nL 171.132896 186.517403 \nL 171.203668 172.397922 \nL 171.246132 214.756364 \nL 171.458449 214.756364 \nL 171.571684 172.397922 \nL 171.642457 214.756364 \nL 171.68492 186.517403 \nL 171.784001 214.756364 \nL 171.798156 200.636883 \nL 171.81231 200.636883 \nL 171.840619 186.517403 \nL 171.925546 214.756364 \nL 171.96801 214.756364 \nL 172.052936 200.636883 \nL 172.067091 214.756364 \nL 172.081245 214.756364 \nL 172.166172 200.636883 \nL 172.180327 214.756364 \nL 172.194481 214.756364 \nL 172.208636 200.636883 \nL 172.293563 214.756364 \nL 172.477571 214.756364 \nL 172.576652 200.636883 \nL 172.689888 214.756364 \nL 172.718197 214.756364 \nL 172.732351 158.278442 \nL 172.817278 214.756364 \nL 172.831433 214.756364 \nL 172.944668 158.278442 \nL 173.072059 214.756364 \nL 173.086213 214.756364 \nL 173.156985 172.397922 \nL 173.185294 200.636883 \nL 173.29853 214.756364 \nL 173.340994 214.756364 \nL 173.440075 186.517403 \nL 173.539156 214.756364 \nL 173.482538 172.397922 \nL 173.553311 200.636883 \nL 173.58162 172.397922 \nL 173.624083 214.756364 \nL 173.70901 130.039481 \nL 173.737319 200.636883 \nL 173.793937 172.397922 \nL 173.8364 200.636883 \nL 173.878864 186.517403 \nL 173.949636 214.756364 \nL 174.006254 186.517403 \nL 174.048717 214.756364 \nL 174.062872 214.756364 \nL 174.133644 200.636883 \nL 174.161953 214.756364 \nL 174.232725 214.756364 \nL 174.345961 172.397922 \nL 174.473351 214.756364 \nL 174.50166 200.636883 \nL 174.572433 214.756364 \nL 174.586587 214.756364 \nL 174.643205 172.397922 \nL 174.685668 214.756364 \nL 174.742286 214.756364 \nL 174.78475 186.517403 \nL 174.855522 200.636883 \nL 174.869677 200.636883 \nL 174.982912 214.756364 \nL 175.5774 214.756364 \nL 175.619864 172.397922 \nL 175.704791 186.517403 \nL 175.718945 186.517403 \nL 175.846335 214.756364 \nL 175.931262 214.756364 \nL 176.016189 73.561558 \nL 176.030343 200.636883 \nL 176.044498 214.756364 \nL 176.086961 200.636883 \nL 176.101116 158.278442 \nL 176.129425 214.756364 \nL 176.186043 172.397922 \nL 176.299278 214.756364 \nL 176.313433 214.756364 \nL 176.39836 200.636883 \nL 176.412514 214.756364 \nL 176.440823 214.756364 \nL 176.539904 172.397922 \nL 176.568213 186.517403 \nL 176.65314 214.756364 \nL 176.667295 200.636883 \nL 176.738067 158.278442 \nL 176.752222 214.756364 \nL 176.766376 214.756364 \nL 176.780531 214.756364 \nL 176.808839 130.039481 \nL 176.893766 200.636883 \nL 176.922075 214.756364 \nL 176.992848 186.517403 \nL 177.021157 214.756364 \nL 177.049466 158.278442 \nL 177.077774 200.636883 \nL 177.091929 158.278442 \nL 177.134392 214.756364 \nL 177.176856 214.756364 \nL 177.205165 214.756364 \nL 177.219319 200.636883 \nL 177.304246 214.756364 \nL 177.3184 214.756364 \nL 177.346709 186.517403 \nL 177.417482 214.756364 \nL 177.445791 214.756364 \nL 177.516563 200.636883 \nL 177.544872 214.756364 \nL 177.587335 214.756364 \nL 177.60149 200.636883 \nL 177.686417 214.756364 \nL 177.912888 214.756364 \nL 177.941197 172.397922 \nL 178.01197 214.756364 \nL 178.252596 214.756364 \nL 178.379986 73.561558 \nL 178.39414 130.039481 \nL 178.507376 214.756364 \nL 178.535685 186.517403 \nL 178.620612 200.636883 \nL 178.733848 214.756364 \nL 178.776311 214.756364 \nL 178.861238 158.278442 \nL 178.875393 214.756364 \nL 178.917856 214.756364 \nL 179.016937 200.636883 \nL 179.130173 214.756364 \nL 179.144328 214.756364 \nL 179.229254 186.517403 \nL 179.243409 200.636883 \nL 179.356645 214.756364 \nL 179.767124 214.756364 \nL 179.781279 172.397922 \nL 179.88036 200.636883 \nL 179.993596 214.756364 \nL 180.078523 214.756364 \nL 180.191759 130.039481 \nL 180.262531 214.756364 \nL 180.304994 172.397922 \nL 180.446539 214.756364 \nL 180.460694 214.756364 \nL 180.503157 200.636883 \nL 180.559775 214.756364 \nL 180.588084 214.756364 \nL 180.687165 172.397922 \nL 180.800401 214.756364 \nL 180.857019 214.756364 \nL 180.927791 186.517403 \nL 180.9561 214.756364 \nL 181.097645 214.756364 \nL 181.125954 200.636883 \nL 181.196726 214.756364 \nL 181.23919 214.756364 \nL 181.36658 172.397922 \nL 181.49397 214.756364 \nL 181.536433 214.756364 \nL 181.550588 172.397922 \nL 181.635515 214.756364 \nL 181.692133 214.756364 \nL 181.706287 172.397922 \nL 181.791214 214.756364 \nL 181.819523 214.756364 \nL 181.918604 200.636883 \nL 181.932759 214.756364 \nL 181.946913 101.800519 \nL 182.03184 214.756364 \nL 182.074303 214.756364 \nL 182.088458 186.517403 \nL 182.173385 214.756364 \nL 182.230003 214.756364 \nL 182.286621 172.397922 \nL 182.329084 200.636883 \nL 182.44232 214.756364 \nL 182.796182 214.756364 \nL 182.838645 87.681039 \nL 182.895263 214.756364 \nL 183.065117 214.756364 \nL 183.178352 200.636883 \nL 183.249125 186.517403 \nL 183.291588 214.756364 \nL 183.348206 101.800519 \nL 183.404824 186.517403 \nL 183.433133 172.397922 \nL 183.51806 214.756364 \nL 183.617141 214.756364 \nL 183.730377 200.636883 \nL 183.843613 214.756364 \nL 183.886076 214.756364 \nL 183.999312 172.397922 \nL 184.126702 214.756364 \nL 184.239938 172.397922 \nL 184.367328 214.756364 \nL 184.480564 186.517403 \nL 184.579645 214.756364 \nL 184.551336 172.397922 \nL 184.5938 200.636883 \nL 184.607954 186.517403 \nL 184.622109 214.756364 \nL 184.678727 214.756364 \nL 184.692881 214.756364 \nL 184.735344 115.92 \nL 184.806117 144.158961 \nL 184.891044 214.756364 \nL 184.905198 186.517403 \nL 184.933507 115.92 \nL 184.97597 214.756364 \nL 185.004279 200.636883 \nL 185.117515 214.756364 \nL 185.174133 214.756364 \nL 185.188288 200.636883 \nL 185.273214 214.756364 \nL 185.329832 214.756364 \nL 185.343987 200.636883 \nL 185.428914 214.756364 \nL 185.542149 214.756364 \nL 185.556304 200.636883 \nL 185.641231 214.756364 \nL 185.726158 214.756364 \nL 185.740312 200.636883 \nL 185.825239 214.756364 \nL 185.910166 214.756364 \nL 186.023401 172.397922 \nL 186.136637 214.756364 \nL 186.179101 214.756364 \nL 186.249873 200.636883 \nL 186.278182 214.756364 \nL 186.348954 214.756364 \nL 186.405572 172.397922 \nL 186.448036 214.756364 \nL 186.660353 214.756364 \nL 186.688662 158.278442 \nL 186.773589 200.636883 \nL 186.844361 172.397922 \nL 186.816052 214.756364 \nL 186.87267 186.517403 \nL 186.985906 214.756364 \nL 187.084987 186.517403 \nL 187.198223 214.756364 \nL 187.226532 214.756364 \nL 187.339767 186.517403 \nL 187.467158 214.756364 \nL 187.481312 214.756364 \nL 187.495467 200.636883 \nL 187.580394 214.756364 \nL 187.608702 214.756364 \nL 187.693629 101.800519 \nL 187.736093 186.517403 \nL 187.750247 186.517403 \nL 187.835174 172.397922 \nL 187.877637 214.756364 \nL 187.891792 214.756364 \nL 187.976719 130.039481 \nL 188.005028 200.636883 \nL 188.089955 214.756364 \nL 188.118264 59.442078 \nL 188.217345 214.756364 \nL 188.231499 186.517403 \nL 188.273963 45.322597 \nL 188.302272 200.636883 \nL 188.316426 144.158961 \nL 188.401353 214.756364 \nL 188.429662 200.636883 \nL 188.443816 200.636883 \nL 188.557052 214.756364 \nL 188.61367 200.636883 \nL 188.656133 214.756364 \nL 188.811833 214.756364 \nL 188.882605 186.517403 \nL 188.925068 200.636883 \nL 188.953377 200.636883 \nL 188.967532 214.756364 \nL 188.981686 158.278442 \nL 189.009995 158.278442 \nL 189.02415 144.158961 \nL 189.038304 214.756364 \nL 189.080768 172.397922 \nL 189.165695 101.800519 \nL 189.179849 214.756364 \nL 189.194003 130.039481 \nL 189.293085 200.636883 \nL 189.307239 214.756364 \nL 189.321394 158.278442 \nL 189.363857 172.397922 \nL 189.378012 158.278442 \nL 189.420475 214.756364 \nL 189.448784 186.517403 \nL 189.576174 214.756364 \nL 189.675256 144.158961 \nL 189.717719 172.397922 \nL 189.760182 172.397922 \nL 189.788491 214.756364 \nL 189.830955 158.278442 \nL 189.887573 115.92 \nL 189.901727 200.636883 \nL 189.915882 144.158961 \nL 190.029117 214.756364 \nL 190.156508 144.158961 \nL 190.255589 200.636883 \nL 190.269743 144.158961 \nL 190.298052 214.756364 \nL 190.35467 200.636883 \nL 190.425443 186.517403 \nL 190.453752 214.756364 \nL 190.482061 186.517403 \nL 190.552833 214.756364 \nL 190.566987 214.756364 \nL 190.680223 144.158961 \nL 190.793459 214.756364 \nL 190.821768 214.756364 \nL 190.89254 158.278442 \nL 190.920849 214.756364 \nL 190.935004 214.756364 \nL 191.048239 87.681039 \nL 191.147321 214.756364 \nL 191.161475 200.636883 \nL 191.232248 200.636883 \nL 191.274711 214.756364 \nL 191.260557 158.278442 \nL 191.288866 158.278442 \nL 191.30302 130.039481 \nL 191.331329 214.756364 \nL 191.373792 172.397922 \nL 191.444565 214.756364 \nL 191.43041 144.158961 \nL 191.487028 200.636883 \nL 191.501183 200.636883 \nL 191.543646 214.756364 \nL 191.529492 172.397922 \nL 191.571955 186.517403 \nL 191.586109 144.158961 \nL 191.642727 214.756364 \nL 191.671036 214.756364 \nL 191.727654 214.756364 \nL 191.826735 158.278442 \nL 191.84089 172.397922 \nL 191.954126 214.756364 \nL 191.982435 214.756364 \nL 192.09567 200.636883 \nL 192.180597 214.756364 \nL 192.194752 200.636883 \nL 192.237215 214.756364 \nL 192.307988 144.158961 \nL 192.407069 214.756364 \nL 192.421223 200.636883 \nL 192.520305 115.92 \nL 192.534459 214.756364 \nL 192.591077 87.681039 \nL 192.63354 200.636883 \nL 192.647695 200.636883 \nL 192.732622 214.756364 \nL 192.718467 186.517403 \nL 192.746776 200.636883 \nL 192.78924 200.636883 \nL 192.902475 214.756364 \nL 193.015711 200.636883 \nL 193.029866 200.636883 \nL 193.04402 214.756364 \nL 193.086484 200.636883 \nL 193.114793 101.800519 \nL 193.157256 214.756364 \nL 193.199719 130.039481 \nL 193.32711 214.756364 \nL 193.426191 172.397922 \nL 193.468654 214.756364 \nL 193.496963 158.278442 \nL 193.525272 172.397922 \nL 193.610199 158.278442 \nL 193.58189 214.756364 \nL 193.624354 172.397922 \nL 193.695126 144.158961 \nL 193.751744 214.756364 \nL 194.643476 214.756364 \nL 194.65763 200.636883 \nL 194.742557 214.756364 \nL 194.827484 214.756364 \nL 194.926565 186.517403 \nL 195.039801 214.756364 \nL 195.082264 214.756364 \nL 195.167191 172.397922 \nL 195.1955 200.636883 \nL 195.223809 200.636883 \nL 195.337045 214.756364 \nL 196.653411 214.756364 \nL 196.667565 200.636883 \nL 196.752492 214.756364 \nL 196.780801 214.756364 \nL 196.908191 172.397922 \nL 197.049736 214.756364 \nL 197.0922 214.756364 \nL 197.191281 200.636883 \nL 197.233744 214.756364 \nL 197.262053 200.636883 \nL 197.276208 172.397922 \nL 197.304517 214.756364 \nL 197.361134 214.756364 \nL 198.6775 214.756364 \nL 198.734118 186.517403 \nL 198.776582 214.756364 \nL 198.861509 214.756364 \nL 198.889818 115.92 \nL 198.96059 214.756364 \nL 199.441842 214.756364 \nL 199.455997 200.636883 \nL 199.540923 214.756364 \nL 199.668314 214.756364 \nL 199.682468 200.636883 \nL 199.767395 214.756364 \nL 199.965558 214.756364 \nL 199.979712 200.636883 \nL 200.064639 214.756364 \nL 200.659127 214.756364 \nL 200.673281 200.636883 \nL 200.758208 214.756364 \nL 200.786517 214.756364 \nL 200.800671 186.517403 \nL 200.885598 214.756364 \nL 202.301046 214.756364 \nL 202.385972 158.278442 \nL 202.414281 200.636883 \nL 202.527517 214.756364 \nL 204.027891 214.756364 \nL 204.126973 200.636883 \nL 204.240208 214.756364 \nL 205.613192 214.756364 \nL 205.641501 200.636883 \nL 205.712274 214.756364 \nL 205.768892 214.756364 \nL 205.7972 172.397922 \nL 205.867973 200.636883 \nL 205.981209 214.756364 \nL 207.41081 214.756364 \nL 207.509892 172.397922 \nL 207.552355 115.92 \nL 207.623128 214.756364 \nL 208.911185 214.756364 \nL 209.010266 172.397922 \nL 209.02442 186.517403 \nL 209.052729 186.517403 \nL 209.165965 214.756364 \nL 209.250892 214.756364 \nL 209.335819 186.517403 \nL 209.349973 214.756364 \nL 210.977738 214.756364 \nL 211.04851 186.517403 \nL 211.076819 214.756364 \nL 211.105128 214.756364 \nL 211.147591 186.517403 \nL 211.204209 214.756364 \nL 211.3316 214.756364 \nL 211.359908 200.636883 \nL 211.430681 214.756364 \nL 212.874437 214.756364 \nL 212.888592 200.636883 \nL 212.973518 214.756364 \nL 213.143372 214.756364 \nL 213.270762 172.397922 \nL 213.369844 214.756364 \nL 213.383998 186.517403 \nL 213.497234 214.756364 \nL 213.539697 214.756364 \nL 213.61047 200.636883 \nL 213.638779 214.756364 \nL 213.695397 214.756364 \nL 213.709551 200.636883 \nL 213.794478 214.756364 \nL 214.587128 214.756364 \nL 214.615437 186.517403 \nL 214.700364 200.636883 \nL 214.728673 200.636883 \nL 214.827754 214.756364 \nL 214.856063 200.636883 \nL 214.926836 214.756364 \nL 214.955145 214.756364 \nL 214.997608 172.397922 \nL 215.06838 200.636883 \nL 215.181616 214.756364 \nL 217.149088 214.756364 \nL 217.276478 186.517403 \nL 217.290633 186.517403 \nL 217.418023 214.756364 \nL 217.432177 186.517403 \nL 217.517104 214.756364 \nL 217.602031 214.756364 \nL 217.616186 200.636883 \nL 217.701112 214.756364 \nL 218.989169 214.756364 \nL 219.017478 172.397922 \nL 219.088251 214.756364 \nL 219.11656 214.756364 \nL 219.187332 144.158961 \nL 219.215641 186.517403 \nL 219.328877 214.756364 \nL 219.37134 186.517403 \nL 219.427958 214.756364 \nL 219.611966 214.756364 \nL 219.711048 144.158961 \nL 219.725202 200.636883 \nL 219.753511 186.517403 \nL 219.838438 214.756364 \nL 219.90921 214.756364 \nL 219.923365 172.397922 \nL 220.008292 214.756364 \nL 220.73017 214.756364 \nL 220.744324 200.636883 \nL 220.829251 214.756364 \nL 220.843405 214.756364 \nL 220.85756 200.636883 \nL 220.942487 214.756364 \nL 221.055723 214.756364 \nL 221.069877 200.636883 \nL 221.154804 214.756364 \nL 221.324658 214.756364 \nL 221.338812 186.517403 \nL 221.423739 200.636883 \nL 221.52282 214.756364 \nL 221.536975 200.636883 \nL 221.621901 214.756364 \nL 222.570251 214.756364 \nL 222.584406 200.636883 \nL 222.669333 214.756364 \nL 223.065658 214.756364 \nL 223.122276 200.636883 \nL 223.164739 214.756364 \nL 223.178894 214.756364 \nL 223.193048 200.636883 \nL 223.277975 214.756364 \nL 223.362902 214.756364 \nL 223.377056 200.636883 \nL 223.461983 214.756364 \nL 223.759227 214.756364 \nL 223.773381 200.636883 \nL 223.858308 214.756364 \nL 223.929081 214.756364 \nL 224.042316 186.517403 \nL 224.141398 214.756364 \nL 224.155552 158.278442 \nL 224.240479 214.756364 \nL 224.311251 214.756364 \nL 224.424487 158.278442 \nL 224.537723 214.756364 \nL 225.245447 214.756364 \nL 225.259601 172.397922 \nL 225.344528 214.756364 \nL 225.386991 214.756364 \nL 225.471918 158.278442 \nL 225.500227 200.636883 \nL 225.514382 200.636883 \nL 225.528536 172.397922 \nL 225.556845 214.756364 \nL 225.613463 214.756364 \nL 225.627617 214.756364 \nL 225.684235 200.636883 \nL 225.726699 214.756364 \nL 225.740853 214.756364 \nL 225.854089 158.278442 \nL 225.967325 214.756364 \nL 226.802439 214.756364 \nL 226.887366 200.636883 \nL 226.90152 214.756364 \nL 227.057219 214.756364 \nL 227.071374 200.636883 \nL 227.1563 214.756364 \nL 227.184609 214.756364 \nL 227.198764 200.636883 \nL 227.283691 214.756364 \nL 227.524317 214.756364 \nL 227.637553 200.636883 \nL 227.750788 214.756364 \nL 227.779097 214.756364 \nL 227.878179 200.636883 \nL 227.991414 214.756364 \nL 228.048032 214.756364 \nL 228.062187 200.636883 \nL 228.147114 214.756364 \nL 228.274504 214.756364 \nL 228.373585 200.636883 \nL 228.486821 214.756364 \nL 228.51513 214.756364 \nL 228.600057 172.397922 \nL 228.614211 214.756364 \nL 228.670829 214.756364 \nL 228.784065 200.636883 \nL 228.798219 200.636883 \nL 228.883146 214.756364 \nL 228.897301 200.636883 \nL 228.939764 200.636883 \nL 229.053 214.756364 \nL 229.576715 214.756364 \nL 229.59087 200.636883 \nL 229.675797 214.756364 \nL 229.902268 214.756364 \nL 229.916423 200.636883 \nL 230.00135 214.756364 \nL 230.12874 214.756364 \nL 230.142894 200.636883 \nL 230.227821 214.756364 \nL 230.25613 214.756364 \nL 230.270285 200.636883 \nL 230.355211 214.756364 \nL 230.397675 214.756364 \nL 230.411829 200.636883 \nL 230.496756 214.756364 \nL 230.836464 214.756364 \nL 230.92139 200.636883 \nL 230.935545 214.756364 \nL 231.020472 214.756364 \nL 231.119553 186.517403 \nL 231.133707 200.636883 \nL 231.162016 200.636883 \nL 231.232789 214.756364 \nL 231.246943 200.636883 \nL 231.275252 214.756364 \nL 231.346025 172.397922 \nL 231.45926 214.756364 \nL 233.115334 214.756364 \nL 233.171952 172.397922 \nL 233.214415 200.636883 \nL 233.327651 214.756364 \nL 233.398423 214.756364 \nL 233.48335 200.636883 \nL 233.497504 214.756364 \nL 235.380049 214.756364 \nL 235.493285 200.636883 \nL 235.606521 214.756364 \nL 236.753033 214.756364 \nL 236.767188 200.636883 \nL 236.852115 214.756364 \nL 237.24844 214.756364 \nL 237.37583 172.397922 \nL 237.50322 214.756364 \nL 237.545684 214.756364 \nL 237.559838 200.636883 \nL 237.644765 214.756364 \nL 238.791277 214.756364 \nL 238.86205 186.517403 \nL 238.890359 214.756364 \nL 238.918668 214.756364 \nL 238.932822 200.636883 \nL 239.017749 214.756364 \nL 239.102676 214.756364 \nL 239.173448 144.158961 \nL 239.215912 186.517403 \nL 239.343302 214.756364 \nL 239.39992 214.756364 \nL 239.499001 200.636883 \nL 239.612237 214.756364 \nL 240.772904 214.756364 \nL 240.900294 172.397922 \nL 241.01353 214.756364 \nL 242.457286 214.756364 \nL 242.542213 200.636883 \nL 242.556367 214.756364 \nL 242.641294 214.756364 \nL 242.740375 158.278442 \nL 242.853611 214.756364 \nL 244.198286 214.756364 \nL 244.254904 172.397922 \nL 244.297367 214.756364 \nL 245.670351 214.756364 \nL 245.69866 200.636883 \nL 245.769433 214.756364 \nL 246.802709 214.756364 \nL 246.901791 200.636883 \nL 246.944254 186.517403 \nL 247.015026 214.756364 \nL 247.099953 214.756364 \nL 247.18488 158.278442 \nL 247.199034 214.756364 \nL 247.213189 214.756364 \nL 247.298116 200.636883 \nL 247.31227 214.756364 \nL 247.666132 214.756364 \nL 247.680287 200.636883 \nL 247.765213 214.756364 \nL 248.756027 214.756364 \nL 248.855108 172.397922 \nL 248.968344 214.756364 \nL 250.185628 214.756364 \nL 250.298864 172.397922 \nL 250.4121 214.756364 \nL 251.785084 214.756364 \nL 251.799238 130.039481 \nL 251.884165 214.756364 \nL 254.84245 214.756364 \nL 254.856604 200.636883 \nL 254.941531 214.756364 \nL 255.451092 214.756364 \nL 255.564328 186.517403 \nL 255.677564 214.756364 \nL 257.177938 214.756364 \nL 257.192093 158.278442 \nL 257.277019 214.756364 \nL 259.102946 214.756364 \nL 259.187873 186.517403 \nL 259.202028 214.756364 \nL 259.286955 214.756364 \nL 259.329418 200.636883 \nL 259.386036 214.756364 \nL 260.164532 214.756364 \nL 260.178686 200.636883 \nL 260.263613 214.756364 \nL 260.787329 214.756364 \nL 260.858101 200.636883 \nL 260.88641 214.756364 \nL 261.29689 214.756364 \nL 261.339353 200.636883 \nL 261.395971 214.756364 \nL 262.514174 214.756364 \nL 262.528329 200.636883 \nL 262.613256 214.756364 \nL 262.684028 214.756364 \nL 262.797264 144.158961 \nL 262.9105 214.756364 \nL 263.335134 214.756364 \nL 263.363443 158.278442 \nL 263.434215 214.756364 \nL 263.901313 214.756364 \nL 263.915467 200.636883 \nL 264.000394 214.756364 \nL 264.736427 214.756364 \nL 264.77889 200.636883 \nL 264.835508 214.756364 \nL 265.713085 214.756364 \nL 265.72724 200.636883 \nL 265.812167 214.756364 \nL 266.732207 214.756364 \nL 266.845443 200.636883 \nL 266.958679 214.756364 \nL 267.001142 214.756364 \nL 267.05776 200.636883 \nL 267.100224 214.756364 \nL 268.105191 214.756364 \nL 268.119346 200.636883 \nL 268.204273 214.756364 \nL 268.275045 214.756364 \nL 268.359972 186.517403 \nL 268.374126 214.756364 \nL 268.402435 214.756364 \nL 268.430744 200.636883 \nL 268.501517 214.756364 \nL 268.54398 214.756364 \nL 268.614752 172.397922 \nL 268.643061 214.756364 \nL 270.129281 214.756364 \nL 270.143435 200.636883 \nL 270.228362 214.756364 \nL 270.299135 214.756364 \nL 270.355753 172.397922 \nL 270.398216 214.756364 \nL 270.440679 214.756364 \nL 270.468988 158.278442 \nL 270.539761 214.756364 \nL 272.040135 214.756364 \nL 272.139216 115.92 \nL 272.153371 200.636883 \nL 272.266606 214.756364 \nL 272.804476 214.756364 \nL 272.818631 200.636883 \nL 272.903558 214.756364 \nL 273.016794 214.756364 \nL 273.030948 200.636883 \nL 273.115875 214.756364 \nL 273.328192 214.756364 \nL 273.342346 200.636883 \nL 273.427273 214.756364 \nL 273.851907 214.756364 \nL 273.866062 200.636883 \nL 273.950989 214.756364 \nL 274.05007 214.756364 \nL 274.106688 130.039481 \nL 274.149151 214.756364 \nL 275.564599 214.756364 \nL 275.649526 158.278442 \nL 275.66368 214.756364 \nL 277.192363 214.756364 \nL 277.206518 200.636883 \nL 277.291444 214.756364 \nL 277.432989 214.756364 \nL 277.53207 172.397922 \nL 277.546225 200.636883 \nL 277.659461 214.756364 \nL 279.004136 214.756364 \nL 279.01829 172.397922 \nL 279.103217 214.756364 \nL 280.646055 214.756364 \nL 280.660209 200.636883 \nL 280.745136 214.756364 \nL 281.70764 214.756364 \nL 281.778412 172.397922 \nL 281.806721 186.517403 \nL 281.919957 214.756364 \nL 283.462795 214.756364 \nL 283.533567 200.636883 \nL 283.561876 214.756364 \nL 283.660957 214.756364 \nL 283.675112 200.636883 \nL 283.760039 214.756364 \nL 285.104714 214.756364 \nL 285.118868 200.636883 \nL 285.203795 214.756364 \nL 285.373649 214.756364 \nL 285.486884 172.397922 \nL 285.614275 214.756364 \nL 285.628429 214.756364 \nL 285.685047 200.636883 \nL 285.72751 214.756364 \nL 286.562624 214.756364 \nL 286.576779 200.636883 \nL 286.661706 214.756364 \nL 286.67586 214.756364 \nL 286.789096 200.636883 \nL 286.80325 200.636883 \nL 286.916486 214.756364 \nL 286.944795 214.756364 \nL 286.95895 200.636883 \nL 287.043876 214.756364 \nL 288.190389 214.756364 \nL 288.204543 200.636883 \nL 288.28947 214.756364 \nL 289.067966 214.756364 \nL 289.11043 186.517403 \nL 289.167047 214.756364 \nL 290.455104 214.756364 \nL 290.469259 200.636883 \nL 290.554186 214.756364 \nL 290.582495 214.756364 \nL 290.596649 186.517403 \nL 290.681576 214.756364 \nL 290.766503 214.756364 \nL 290.794812 144.158961 \nL 290.865584 214.756364 \nL 290.879739 214.756364 \nL 290.950511 172.397922 \nL 290.97882 214.756364 \nL 291.502535 214.756364 \nL 291.51669 200.636883 \nL 291.601617 214.756364 \nL 291.615771 214.756364 \nL 291.629926 200.636883 \nL 291.714853 214.756364 \nL 291.813934 214.756364 \nL 291.828088 200.636883 \nL 291.913015 214.756364 \nL 292.082869 214.756364 \nL 292.125332 172.397922 \nL 292.18195 214.756364 \nL 293.073682 214.756364 \nL 293.158609 200.636883 \nL 293.172763 214.756364 \nL 293.569089 214.756364 \nL 293.583243 200.636883 \nL 293.66817 214.756364 \nL 294.276812 214.756364 \nL 294.290967 200.636883 \nL 294.375894 214.756364 \nL 294.489129 214.756364 \nL 294.588211 186.517403 \nL 294.701446 214.756364 \nL 294.74391 214.756364 \nL 294.814682 200.636883 \nL 294.842991 214.756364 \nL 295.833804 214.756364 \nL 295.890422 200.636883 \nL 295.932886 214.756364 \nL 295.975349 214.756364 \nL 296.003658 158.278442 \nL 296.088585 200.636883 \nL 296.201821 214.756364 \nL 296.937853 214.756364 \nL 296.966162 200.636883 \nL 297.036934 214.756364 \nL 297.079398 214.756364 \nL 297.093552 200.636883 \nL 297.178479 214.756364 \nL 297.206788 214.756364 \nL 297.249252 200.636883 \nL 297.305869 214.756364 \nL 297.546496 214.756364 \nL 297.603113 200.636883 \nL 297.645577 214.756364 \nL 297.857894 214.756364 \nL 297.914512 200.636883 \nL 297.956975 214.756364 \nL 298.211756 214.756364 \nL 298.296683 200.636883 \nL 298.310837 214.756364 \nL 298.424073 214.756364 \nL 298.452382 172.397922 \nL 298.523154 200.636883 \nL 298.608081 214.756364 \nL 298.622235 200.636883 \nL 298.63639 200.636883 \nL 298.749626 214.756364 \nL 299.42904 214.756364 \nL 299.443195 200.636883 \nL 299.528122 214.756364 \nL 299.740439 214.756364 \nL 299.754593 200.636883 \nL 299.83952 214.756364 \nL 299.853675 214.756364 \nL 299.881984 200.636883 \nL 299.952756 214.756364 \nL 300.221691 214.756364 \nL 300.320772 200.636883 \nL 300.37739 214.756364 \nL 300.391545 200.636883 \nL 300.419854 214.756364 \nL 300.50478 172.397922 \nL 300.632171 214.756364 \nL 302.175008 214.756364 \nL 302.288244 186.517403 \nL 302.40148 214.756364 \nL 304.213252 214.756364 \nL 304.326488 200.636883 \nL 304.439724 214.756364 \nL 305.968407 214.756364 \nL 305.982562 158.278442 \nL 306.067488 214.756364 \nL 307.412163 214.756364 \nL 307.454627 186.517403 \nL 307.525399 200.636883 \nL 307.596171 214.756364 \nL 307.610326 172.397922 \nL 307.695253 214.756364 \nL 308.98331 214.756364 \nL 308.997464 186.517403 \nL 309.082391 214.756364 \nL 309.096546 214.756364 \nL 309.167318 158.278442 \nL 309.209781 200.636883 \nL 309.323017 214.756364 \nL 310.752619 214.756364 \nL 310.8517 186.517403 \nL 310.865855 200.636883 \nL 310.908318 200.636883 \nL 310.922473 158.278442 \nL 310.936627 214.756364 \nL 311.007399 214.756364 \nL 312.309611 214.756364 \nL 312.380383 172.397922 \nL 312.408692 214.756364 \nL 312.889944 214.756364 \nL 312.904099 200.636883 \nL 312.989026 214.756364 \nL 314.786644 214.756364 \nL 314.89988 186.517403 \nL 315.02727 214.756364 \nL 315.041424 214.756364 \nL 315.055579 200.636883 \nL 315.140506 214.756364 \nL 315.451904 214.756364 \nL 315.466059 200.636883 \nL 315.550985 214.756364 \nL 316.485181 214.756364 \nL 316.541799 172.397922 \nL 316.584262 214.756364 \nL 316.64088 214.756364 \nL 316.669189 158.278442 \nL 316.739961 214.756364 \nL 317.928937 214.756364 \nL 318.042173 172.397922 \nL 318.056327 186.517403 \nL 318.169563 214.756364 \nL 319.429311 214.756364 \nL 319.514238 130.039481 \nL 319.528392 144.158961 \nL 319.641628 214.756364 \nL 322.246051 214.756364 \nL 322.260206 200.636883 \nL 322.345132 214.756364 \nL 323.548263 214.756364 \nL 323.675653 186.517403 \nL 323.788889 214.756364 \nL 323.916279 214.756364 \nL 323.958742 186.517403 \nL 324.01536 214.756364 \nL 324.057824 214.756364 \nL 324.071978 200.636883 \nL 324.156905 214.756364 \nL 325.119409 214.756364 \nL 325.133564 158.278442 \nL 325.218491 214.756364 \nL 325.232645 214.756364 \nL 325.246799 200.636883 \nL 325.331726 214.756364 \nL 327.030263 214.756364 \nL 327.129344 200.636883 \nL 327.214271 214.756364 \nL 327.228426 200.636883 \nL 327.256735 200.636883 \nL 327.36997 214.756364 \nL 327.384125 214.756364 \nL 327.497361 186.517403 \nL 327.610597 214.756364 \nL 327.681369 214.756364 \nL 327.766296 200.636883 \nL 327.78045 214.756364 \nL 327.794605 214.756364 \nL 327.851223 172.397922 \nL 327.893686 214.756364 \nL 328.98358 214.756364 \nL 329.054353 200.636883 \nL 329.082662 214.756364 \nL 329.422369 214.756364 \nL 329.436524 186.517403 \nL 329.52145 214.756364 \nL 329.563914 214.756364 \nL 329.634686 172.397922 \nL 329.662995 214.756364 \nL 330.767044 214.756364 \nL 330.88028 200.636883 \nL 330.993516 214.756364 \nL 331.021825 214.756364 \nL 331.035979 186.517403 \nL 331.120906 214.756364 \nL 331.13506 214.756364 \nL 331.205833 144.158961 \nL 331.234142 158.278442 \nL 331.347377 214.756364 \nL 331.743703 214.756364 \nL 331.82863 130.039481 \nL 331.842784 214.756364 \nL 332.182491 214.756364 \nL 332.196646 200.636883 \nL 332.281573 214.756364 \nL 332.876061 214.756364 \nL 332.918524 200.636883 \nL 332.975142 214.756364 \nL 334.617061 214.756364 \nL 334.730297 200.636883 \nL 334.77276 200.636883 \nL 334.885996 214.756364 \nL 334.928459 214.756364 \nL 334.956768 186.517403 \nL 335.02754 214.756364 \nL 336.046663 214.756364 \nL 336.060817 200.636883 \nL 336.145744 214.756364 \nL 336.202362 214.756364 \nL 336.230671 200.636883 \nL 336.301443 214.756364 \nL 337.731045 214.756364 \nL 337.801817 200.636883 \nL 337.830126 214.756364 \nL 337.844281 214.756364 \nL 337.943362 200.636883 \nL 338.056598 214.756364 \nL 339.712671 214.756364 \nL 339.726826 200.636883 \nL 339.811752 214.756364 \nL 339.896679 214.756364 \nL 339.910834 200.636883 \nL 339.995761 214.756364 \nL 340.972419 214.756364 \nL 340.986574 200.636883 \nL 341.0715 214.756364 \nL 342.359558 214.756364 \nL 342.458639 200.636883 \nL 342.55772 214.756364 \nL 342.614338 200.636883 \nL 342.656801 214.756364 \nL 344.355338 214.756364 \nL 344.369493 200.636883 \nL 344.45442 214.756364 \nL 344.539346 214.756364 \nL 344.595964 200.636883 \nL 344.638428 214.756364 \nL 344.695046 214.756364 \nL 344.737509 172.397922 \nL 344.808281 186.517403 \nL 344.921517 214.756364 \nL 344.949826 214.756364 \nL 344.978135 158.278442 \nL 345.048907 214.756364 \nL 345.133834 214.756364 \nL 345.24707 200.636883 \nL 345.331997 214.756364 \nL 345.346151 200.636883 \nL 345.360306 158.278442 \nL 345.388615 214.756364 \nL 345.445233 214.756364 \nL 345.516005 214.756364 \nL 345.544314 158.278442 \nL 345.615086 172.397922 \nL 345.685859 144.158961 \nL 345.728322 214.756364 \nL 345.770786 214.756364 \nL 345.78494 186.517403 \nL 345.884021 200.636883 \nL 345.954794 214.756364 \nL 345.940639 172.397922 \nL 345.968948 200.636883 \nL 345.983103 130.039481 \nL 346.011412 214.756364 \nL 346.06803 200.636883 \nL 346.082184 200.636883 \nL 346.124647 214.756364 \nL 346.138802 144.158961 \nL 346.223729 214.756364 \nL 346.266192 214.756364 \nL 346.280347 101.800519 \nL 346.365273 214.756364 \nL 346.379428 214.756364 \nL 346.393582 87.681039 \nL 346.478509 214.756364 \nL 346.506818 214.756364 \nL 346.506818 214.756364 \n\" style=\"fill:none;stroke:#8dd3c7;stroke-linecap:square;stroke-width:1.5;\"/>\n   </g>\n   <g id=\"patch_3\">\n    <path d=\"M 26.925 224.64 \nL 26.925 7.2 \n\" style=\"fill:none;stroke:#ffffff;stroke-linecap:square;stroke-linejoin:miter;stroke-width:0.8;\"/>\n   </g>\n   <g id=\"patch_4\">\n    <path d=\"M 361.725 224.64 \nL 361.725 7.2 \n\" style=\"fill:none;stroke:#ffffff;stroke-linecap:square;stroke-linejoin:miter;stroke-width:0.8;\"/>\n   </g>\n   <g id=\"patch_5\">\n    <path d=\"M 26.925 224.64 \nL 361.725 224.64 \n\" style=\"fill:none;stroke:#ffffff;stroke-linecap:square;stroke-linejoin:miter;stroke-width:0.8;\"/>\n   </g>\n   <g id=\"patch_6\">\n    <path d=\"M 26.925 7.2 \nL 361.725 7.2 \n\" style=\"fill:none;stroke:#ffffff;stroke-linecap:square;stroke-linejoin:miter;stroke-width:0.8;\"/>\n   </g>\n  </g>\n </g>\n <defs>\n  <clipPath id=\"p78dfdf4c7d\">\n   <rect height=\"217.44\" width=\"334.8\" x=\"26.925\" y=\"7.2\"/>\n  </clipPath>\n </defs>\n</svg>\n",
      "text/plain": [
       "<Figure size 432x288 with 1 Axes>"
      ]
     },
     "metadata": {},
     "output_type": "display_data"
    }
   ],
   "source": [
    "train.船数量.plot()"
   ]
  },
  {
   "cell_type": "code",
   "execution_count": 85,
   "id": "3b2ced2f",
   "metadata": {},
   "outputs": [
    {
     "data": {
      "text/plain": [
       "array([    1,     5,     7, ..., 39614, 39615, 39616])"
      ]
     },
     "execution_count": 85,
     "metadata": {},
     "output_type": "execute_result"
    }
   ],
   "source": [
    "submit.iloc[:,0].values"
   ]
  },
  {
   "cell_type": "code",
   "execution_count": 86,
   "id": "56530f93",
   "metadata": {},
   "outputs": [
    {
     "data": {
      "text/plain": [
       "array([    2,     3,     4, ..., 39609, 39611, 39612])"
      ]
     },
     "execution_count": 86,
     "metadata": {},
     "output_type": "execute_result"
    }
   ],
   "source": [
    "train.文件名.values"
   ]
  },
  {
   "cell_type": "code",
   "execution_count": 87,
   "id": "eb122957",
   "metadata": {},
   "outputs": [],
   "source": [
    "all_idx = [0 for _ in range(max(list(submit.iloc[:,0].values)+list(train.文件名.values)))]"
   ]
  },
  {
   "cell_type": "code",
   "execution_count": 97,
   "id": "47bdbe53",
   "metadata": {
    "execution": {
     "iopub.execute_input": "2022-01-13T15:51:23.308115Z",
     "iopub.status.busy": "2022-01-13T15:51:23.307072Z",
     "iopub.status.idle": "2022-01-13T15:51:26.328707Z",
     "shell.execute_reply": "2022-01-13T15:51:26.327770Z",
     "shell.execute_reply.started": "2022-01-13T15:39:59.930389Z"
    },
    "papermill": {
     "duration": 3.044848,
     "end_time": "2022-01-13T15:51:26.328902",
     "exception": false,
     "start_time": "2022-01-13T15:51:23.284054",
     "status": "completed"
    },
    "tags": []
   },
   "outputs": [],
   "source": [
    "!mkdir -p ./yolo_data/fold_submit/images/val\n",
    "!mkdir -p ./yolo_data/fold_submit/images/train\n",
    "\n",
    "!mkdir -p ./yolo_data/fold_submit/labels/val\n",
    "!mkdir -p ./yolo_data/fold_submit/labels/train"
   ]
  },
  {
   "cell_type": "code",
   "execution_count": 98,
   "id": "f8b71e00",
   "metadata": {
    "execution": {
     "iopub.execute_input": "2022-01-13T15:51:26.368056Z",
     "iopub.status.busy": "2022-01-13T15:51:26.365228Z",
     "iopub.status.idle": "2022-01-13T15:53:47.342006Z",
     "shell.execute_reply": "2022-01-13T15:53:47.340882Z",
     "shell.execute_reply.started": "2022-01-13T15:40:02.552751Z"
    },
    "papermill": {
     "duration": 140.999577,
     "end_time": "2022-01-13T15:53:47.342198",
     "exception": false,
     "start_time": "2022-01-13T15:51:26.342621",
     "status": "completed"
    },
    "tags": []
   },
   "outputs": [],
   "source": [
    "fold = '_submit'\n",
    "\n",
    "annos = []\n",
    "for i, x in train.iterrows():\n",
    "    if x.fold == 0:\n",
    "        mode = 'val'\n",
    "        if x.船数量<=0: continue\n",
    "        copyfile(f'/home/ldp/competitions/dcic2022/ship_detect/data/test_dataset/{str(x.文件名).zfill(5)}.jpg',\n",
    "                f'./yolo_data/fold{fold}/images/{mode}/{str(x.文件名).zfill(5)}.jpg')\n",
    "    else:\n",
    "        # train\n",
    "        mode = 'train'\n",
    "        if x.船数量<=0: continue\n",
    "        copyfile(f'/home/ldp/competitions/dcic2022/ship_detect/data/A/{str(x.文件名).zfill(5)}.jpg',\n",
    "                f'./yolo_data/fold{fold}/images/{mode}/{str(x.文件名).zfill(5)}.jpg')\n",
    "        # val\n",
    "\n",
    "\n",
    "    r = ''\n",
    "    anno = []\n",
    "    for pos in x.坐标.split(';'):\n",
    "        anno.append([eval(i) for i in pos.split(' ')])\n",
    "    for an in anno:\n",
    "#            annos.append(an)\n",
    "        r += '0 {} {} {} {}\\n'.format(an[0],an[1],an[2],an[3])\n",
    "    with open(f'./yolo_data/fold{fold}/labels/{mode}/{str(x.文件名).zfill(5)}.txt', 'w') as fp:\n",
    "        fp.write(r)"
   ]
  },
  {
   "cell_type": "code",
   "execution_count": 104,
   "id": "f77ef231",
   "metadata": {
    "execution": {
     "iopub.execute_input": "2022-01-13T15:53:47.383194Z",
     "iopub.status.busy": "2022-01-13T15:53:47.382218Z",
     "iopub.status.idle": "2022-01-13T15:53:47.385571Z",
     "shell.execute_reply": "2022-01-13T15:53:47.385009Z",
     "shell.execute_reply.started": "2022-01-13T15:43:48.971357Z"
    },
    "papermill": {
     "duration": 0.023169,
     "end_time": "2022-01-13T15:53:47.385743",
     "exception": false,
     "start_time": "2022-01-13T15:53:47.362574",
     "status": "completed"
    },
    "tags": []
   },
   "outputs": [],
   "source": [
    "hyps = '''\n",
    "# YOLOv5 by Ultralytics, GPL-3.0 license\n",
    "# Hyperparameters for COCO training from scratch\n",
    "# python train.py --batch 40 --cfg yolov5m.yaml --weights '' --data coco.yaml --img 640 --epochs 300\n",
    "# See tutorials for hyperparameter evolution https://github.com/ultralytics/yolov5#tutorials\n",
    "\n",
    "lr0: 0.01  # initial learning rate (SGD=1E-2, Adam=1E-3)\n",
    "lrf: 0.1  # final OneCycleLR learning rate (lr0 * lrf)\n",
    "momentum: 0.937  # SGD momentum/Adam beta1\n",
    "weight_decay: 0.0005  # optimizer weight decay 5e-4\n",
    "warmup_epochs: 3.0  # warmup epochs (fractions ok)\n",
    "warmup_momentum: 0.8  # warmup initial momentum\n",
    "warmup_bias_lr: 0.1  # warmup initial bias lr\n",
    "box: 0.05  # box loss gain\n",
    "cls: 0.5  # cls loss gain\n",
    "cls_pw: 1.0  # cls BCELoss positive_weight\n",
    "obj: 1.0  # obj loss gain (scale with pixels)\n",
    "obj_pw: 1.0  # obj BCELoss positive_weight\n",
    "iou_t: 0.20  # IoU training threshold\n",
    "anchor_t: 4.0  # anchor-multiple threshold\n",
    "# anchors: 3  # anchors per output layer (0 to ignore)\n",
    "fl_gamma: 0.0  # focal loss gamma (efficientDet default gamma=1.5)\n",
    "hsv_h: 0.015  # image HSV-Hue augmentation (fraction)\n",
    "hsv_s: 0.2 # image HSV-Saturation augmentation (fraction)\n",
    "hsv_v: 0.2  # image HSV-Value augmentation (fraction)\n",
    "degrees: 0.0  # image rotation (+/- deg)\n",
    "translate: 0.1  # image translation (+/- fraction)\n",
    "scale: 0.35  # image scale (+/- gain)\n",
    "shear: 0.0  # image shear (+/- deg)\n",
    "perspective: 0.0  # image perspective (+/- fraction), range 0-0.001\n",
    "flipud: 0.5  # image flip up-down (probability)\n",
    "fliplr: 0.5  # image flip left-right (probability)\n",
    "mosaic: 0.1  # image mosaic (probability)\n",
    "mixup: 0.4  # image mixup (probability)\n",
    "copy_paste: 0.0  # segment copy-paste (probability)\n",
    "'''"
   ]
  },
  {
   "cell_type": "code",
   "execution_count": 111,
   "id": "97318f43",
   "metadata": {
    "execution": {
     "iopub.execute_input": "2022-01-13T15:53:47.417831Z",
     "iopub.status.busy": "2022-01-13T15:53:47.416731Z",
     "iopub.status.idle": "2022-01-13T15:53:47.419054Z",
     "shell.execute_reply": "2022-01-13T15:53:47.419614Z",
     "shell.execute_reply.started": "2022-01-13T15:46:59.716378Z"
    },
    "papermill": {
     "duration": 0.02075,
     "end_time": "2022-01-13T15:53:47.419834",
     "exception": false,
     "start_time": "2022-01-13T15:53:47.399084",
     "status": "completed"
    },
    "tags": []
   },
   "outputs": [],
   "source": [
    "data = '''\n",
    "# Train/val/test sets as 1) dir: path/to/imgs, 2) file: path/to/imgs.txt, or 3) list: [path/to/imgs1, path/to/imgs2, ..]\n",
    "path: ./yolo_data/fold_submit/  # dataset root dir\n",
    "train: images/train  # train images (relative to 'path') 128 images\n",
    "val: images/val  # val images (relative to 'path') 128 images\n",
    "test:  # test images (optional)\n",
    "\n",
    "# Classes\n",
    "nc: 1  # number of classes\n",
    "names: ['ship']  # class names\n",
    "\n",
    "\n",
    "# Download script/URL (optional)\n",
    "# download: https://ultralytics.com/assets/coco128.zip\n",
    "'''"
   ]
  },
  {
   "cell_type": "code",
   "execution_count": 1,
   "id": "a0ee379a",
   "metadata": {
    "execution": {
     "iopub.execute_input": "2022-01-13T15:53:47.451415Z",
     "iopub.status.busy": "2022-01-13T15:53:47.450711Z",
     "iopub.status.idle": "2022-01-13T15:53:53.870768Z",
     "shell.execute_reply": "2022-01-13T15:53:53.869903Z",
     "shell.execute_reply.started": "2022-01-13T15:43:50.421761Z"
    },
    "papermill": {
     "duration": 6.438222,
     "end_time": "2022-01-13T15:53:53.870943",
     "exception": false,
     "start_time": "2022-01-13T15:53:47.432721",
     "status": "completed"
    },
    "tags": []
   },
   "outputs": [
    {
     "name": "stdout",
     "output_type": "stream",
     "text": [
      "Cloning into 'yolov5'...\n",
      "fatal: unable to access 'https://github.com/ultralytics/yolov5.git/': Could not resolve host: github.com\n"
     ]
    }
   ],
   "source": [
    "!git clone https://github.com/ultralytics/yolov5.git"
   ]
  },
  {
   "cell_type": "code",
   "execution_count": 114,
   "id": "b7d49eb7",
   "metadata": {
    "execution": {
     "iopub.execute_input": "2022-01-13T15:53:53.928454Z",
     "iopub.status.busy": "2022-01-13T15:53:53.927491Z",
     "iopub.status.idle": "2022-01-13T15:53:53.931052Z",
     "shell.execute_reply": "2022-01-13T15:53:53.931559Z",
     "shell.execute_reply.started": "2022-01-13T15:47:12.544460Z"
    },
    "papermill": {
     "duration": 0.034386,
     "end_time": "2022-01-13T15:53:53.931810",
     "exception": false,
     "start_time": "2022-01-13T15:53:53.897424",
     "status": "completed"
    },
    "tags": []
   },
   "outputs": [],
   "source": [
    "with open('./yolov5/data/ship_f1_naive_3.yaml', 'w') as fp:\n",
    "    fp.write(data)\n",
    "with open('./yolov5/data/hyps/hyp.heavy.2.yaml', 'w') as fp:\n",
    "    fp.write(hyps)"
   ]
  },
  {
   "cell_type": "code",
   "execution_count": 115,
   "id": "3218540d",
   "metadata": {
    "execution": {
     "iopub.execute_input": "2022-01-13T15:53:53.987862Z",
     "iopub.status.busy": "2022-01-13T15:53:53.986720Z",
     "iopub.status.idle": "2022-01-13T15:53:53.991138Z",
     "shell.execute_reply": "2022-01-13T15:53:53.991738Z",
     "shell.execute_reply.started": "2022-01-13T15:47:13.894900Z"
    },
    "papermill": {
     "duration": 0.035694,
     "end_time": "2022-01-13T15:53:53.991910",
     "exception": false,
     "start_time": "2022-01-13T15:53:53.956216",
     "status": "completed"
    },
    "tags": []
   },
   "outputs": [
    {
     "name": "stdout",
     "output_type": "stream",
     "text": [
      "/home/ldp/competitions/dcic2022/ship_detect/yolov5\n"
     ]
    }
   ],
   "source": [
    "%cd yolov5"
   ]
  },
  {
   "cell_type": "code",
   "execution_count": 116,
   "id": "3070ec21",
   "metadata": {
    "execution": {
     "iopub.execute_input": "2022-01-13T15:53:54.055211Z",
     "iopub.status.busy": "2022-01-13T15:53:54.051553Z",
     "iopub.status.idle": "2022-01-13T15:53:54.828678Z",
     "shell.execute_reply": "2022-01-13T15:53:54.827996Z",
     "shell.execute_reply.started": "2022-01-13T15:46:27.057138Z"
    },
    "papermill": {
     "duration": 0.811813,
     "end_time": "2022-01-13T15:53:54.829035",
     "exception": false,
     "start_time": "2022-01-13T15:53:54.017222",
     "status": "completed"
    },
    "tags": []
   },
   "outputs": [
    {
     "name": "stdout",
     "output_type": "stream",
     "text": [
      "Argoverse.yaml\t      hyps\t\t  scripts\t\tSKU-110K.yaml\n",
      "coco128.yaml\t      images\t\t  ship_f1_naive_2.yaml\tVisDrone.yaml\n",
      "coco.yaml\t      Objects365.yaml\t  ship_f1_naive_3.yaml\tVOC.yaml\n",
      "GlobalWheat2020.yaml  reef_f1_naive.yaml  ship_f1_naive.yaml\txView.yaml\n"
     ]
    }
   ],
   "source": [
    "!ls data/"
   ]
  },
  {
   "cell_type": "code",
   "execution_count": 117,
   "id": "4bdd708e",
   "metadata": {
    "execution": {
     "iopub.execute_input": "2022-01-13T15:53:54.887658Z",
     "iopub.status.busy": "2022-01-13T15:53:54.886667Z",
     "iopub.status.idle": "2022-01-13T20:19:57.555955Z",
     "shell.execute_reply": "2022-01-13T20:19:57.554495Z"
    },
    "papermill": {
     "duration": 15962.70214,
     "end_time": "2022-01-13T20:19:57.556145",
     "exception": false,
     "start_time": "2022-01-13T15:53:54.854005",
     "status": "completed"
    },
    "tags": []
   },
   "outputs": [
    {
     "name": "stdout",
     "output_type": "stream",
     "text": [
      "\u001b[34m\u001b[1mwandb\u001b[0m: Currently logged in as: \u001b[33manony-moose-164537\u001b[0m (use `wandb login --relogin` to force relogin)\n",
      "\u001b[34m\u001b[1mtrain: \u001b[0mweights=yolov5l.pt, cfg=, data=ship_f1_naive_3.yaml, hyp=data/hyps/hyp.heavy.2.yaml, epochs=150, batch_size=128, imgsz=528, rect=False, resume=False, nosave=False, noval=False, noautoanchor=False, evolve=None, bucket=, cache=None, image_weights=False, device=, multi_scale=False, single_cls=False, optimizer=SGD, sync_bn=False, workers=8, project=runs/train, name=128_528_uflip_vm5_f1_naive3, exist_ok=False, quad=False, linear_lr=False, label_smoothing=0.0, patience=100, freeze=[0], save_period=-1, local_rank=-1, entity=None, upload_dataset=False, bbox_interval=-1, artifact_alias=latest\n",
      "\u001b[34m\u001b[1mgithub: \u001b[0mskipping check (offline), for updates see https://github.com/ultralytics/yolov5\n",
      "\u001b[31m\u001b[1mrequirements:\u001b[0m opencv-python>=4.1.2 not found and is required by YOLOv5, attempting auto-update...\n",
      "\u001b[31m\u001b[1mrequirements:\u001b[0m 'pip install opencv-python>=4.1.2' skipped (offline)\n",
      "\u001b[31m\u001b[1mrequirements:\u001b[0m pandas>=1.1.4 not found and is required by YOLOv5, attempting auto-update...\n",
      "\u001b[31m\u001b[1mrequirements:\u001b[0m 'pip install pandas>=1.1.4' skipped (offline)\n",
      "YOLOv5 🚀 v6.0-207-g8efe977 torch 1.10.0+cu113 CUDA:0 (GeForce RTX 3090, 24268MiB)\n",
      "\n",
      "\u001b[34m\u001b[1mhyperparameters: \u001b[0mlr0=0.01, lrf=0.1, momentum=0.937, weight_decay=0.0005, warmup_epochs=3.0, warmup_momentum=0.8, warmup_bias_lr=0.1, box=0.05, cls=0.5, cls_pw=1.0, obj=1.0, obj_pw=1.0, iou_t=0.2, anchor_t=4.0, fl_gamma=0.0, hsv_h=0.015, hsv_s=0.2, hsv_v=0.2, degrees=0.0, translate=0.1, scale=0.35, shear=0.0, perspective=0.0, flipud=0.5, fliplr=0.5, mosaic=0.1, mixup=0.4, copy_paste=0.0\n",
      "\u001b[34m\u001b[1mTensorBoard: \u001b[0mStart with 'tensorboard --logdir runs/train', view at http://localhost:6006/\n",
      "\u001b[34m\u001b[1mwandb\u001b[0m: Tracking run with wandb version 0.12.7\n",
      "\u001b[34m\u001b[1mwandb\u001b[0m: Syncing run \u001b[33m128_528_uflip_vm5_f1_naive3\u001b[0m\n",
      "\u001b[34m\u001b[1mwandb\u001b[0m:  View project at \u001b[34m\u001b[4mhttps://wandb.ai/anony-moose-164537/YOLOv5?apiKey=c2132738292f5107bf54c78f198f8a12e4b6d70e\u001b[0m\n",
      "\u001b[34m\u001b[1mwandb\u001b[0m:  View run at \u001b[34m\u001b[4mhttps://wandb.ai/anony-moose-164537/YOLOv5/runs/2zs59vyf?apiKey=c2132738292f5107bf54c78f198f8a12e4b6d70e\u001b[0m\n",
      "\u001b[34m\u001b[1mwandb\u001b[0m: Run data is saved locally in /home/ldp/competitions/dcic2022/ship_detect/yolov5/wandb/run-20220127_135100-2zs59vyf\n",
      "\u001b[34m\u001b[1mwandb\u001b[0m: Run `wandb offline` to turn off syncing.\n",
      "\u001b[34m\u001b[1mwandb\u001b[0m: \u001b[33mWARNING\u001b[0m Do NOT share these links with anyone. They can be used to claim your runs.\n",
      "\n",
      "Overriding model.yaml nc=80 with nc=1\n",
      "\n",
      "                 from  n    params  module                                  arguments                     \n",
      "  0                -1  1      7040  models.common.Conv                      [3, 64, 6, 2, 2]              \n",
      "  1                -1  1     73984  models.common.Conv                      [64, 128, 3, 2]               \n",
      "  2                -1  3    156928  models.common.C3                        [128, 128, 3]                 \n",
      "  3                -1  1    295424  models.common.Conv                      [128, 256, 3, 2]              \n",
      "  4                -1  6   1118208  models.common.C3                        [256, 256, 6]                 \n",
      "  5                -1  1   1180672  models.common.Conv                      [256, 512, 3, 2]              \n",
      "  6                -1  9   6433792  models.common.C3                        [512, 512, 9]                 \n",
      "  7                -1  1   4720640  models.common.Conv                      [512, 1024, 3, 2]             \n",
      "  8                -1  3   9971712  models.common.C3                        [1024, 1024, 3]               \n",
      "  9                -1  1   2624512  models.common.SPPF                      [1024, 1024, 5]               \n",
      " 10                -1  1    525312  models.common.Conv                      [1024, 512, 1, 1]             \n",
      " 11                -1  1         0  torch.nn.modules.upsampling.Upsample    [None, 2, 'nearest']          \n",
      " 12           [-1, 6]  1         0  models.common.Concat                    [1]                           \n",
      " 13                -1  3   2757632  models.common.C3                        [1024, 512, 3, False]         \n",
      " 14                -1  1    131584  models.common.Conv                      [512, 256, 1, 1]              \n",
      " 15                -1  1         0  torch.nn.modules.upsampling.Upsample    [None, 2, 'nearest']          \n",
      " 16           [-1, 4]  1         0  models.common.Concat                    [1]                           \n",
      " 17                -1  3    690688  models.common.C3                        [512, 256, 3, False]          \n",
      " 18                -1  1    590336  models.common.Conv                      [256, 256, 3, 2]              \n",
      " 19          [-1, 14]  1         0  models.common.Concat                    [1]                           \n",
      " 20                -1  3   2495488  models.common.C3                        [512, 512, 3, False]          \n",
      " 21                -1  1   2360320  models.common.Conv                      [512, 512, 3, 2]              \n",
      " 22          [-1, 10]  1         0  models.common.Concat                    [1]                           \n",
      " 23                -1  3   9971712  models.common.C3                        [1024, 1024, 3, False]        \n",
      " 24      [17, 20, 23]  1     32310  models.yolo.Detect                      [1, [[10, 13, 16, 30, 33, 23], [30, 61, 62, 45, 59, 119], [116, 90, 156, 198, 373, 326]], [256, 512, 1024]]\n",
      "Model Summary: 468 layers, 46138294 parameters, 46138294 gradients, 107.9 GFLOPs\n",
      "\n",
      "Transferred 607/613 items from yolov5l.pt\n",
      "WARNING: --img-size 528 must be multiple of max stride 32, updating to 544\n",
      "Scaled weight_decay = 0.001\n",
      "\u001b[34m\u001b[1moptimizer:\u001b[0m SGD with parameter groups 101 weight (no decay), 104 weight, 104 bias\n",
      "WARNING: DP not recommended, use torch.distributed.run for best DDP Multi-GPU results.\n",
      "See Multi-GPU Tutorial at https://github.com/ultralytics/yolov5/issues/475 to get started.\n",
      "\u001b[34m\u001b[1mtrain: \u001b[0mScanning 'yolo_data/fold_submit/labels/train' images and labels...21504 f\u001b[0m\n",
      "\u001b[34m\u001b[1mtrain: \u001b[0mNew cache created: yolo_data/fold_submit/labels/train.cache\n",
      "\u001b[34m\u001b[1mval: \u001b[0mScanning 'yolo_data/fold_submit/labels/val' images and labels...17856 found\u001b[0m\n",
      "\u001b[34m\u001b[1mval: \u001b[0mNew cache created: yolo_data/fold_submit/labels/val.cache\n",
      "Plotting labels to runs/train/128_528_uflip_vm5_f1_naive34/labels.jpg... \n",
      "\n",
      "\u001b[34m\u001b[1mAutoAnchor: \u001b[0m5.64 anchors/target, 1.000 Best Possible Recall (BPR). Current anchors are a good fit to dataset ✅\n",
      "Image sizes 544 train, 544 val\n",
      "Using 8 dataloader workers\n",
      "Logging results to \u001b[1mruns/train/128_528_uflip_vm5_f1_naive34\u001b[0m\n",
      "Starting training for 150 epochs...\n",
      "\n",
      "     Epoch   gpu_mem       box       obj       cls    labels  img_size\n",
      "     0/149     14.5G   0.06479    0.0161         0       169       544: 100%|███\n",
      "               Class     Images     Labels          P          R     mAP@.5 mAP@\n",
      "                 all      17856      23204      0.762      0.764        0.8      0.232\n",
      "\n",
      "     Epoch   gpu_mem       box       obj       cls    labels  img_size\n",
      "     1/149     15.6G   0.04997  0.009591         0       177       544: 100%|███\n",
      "               Class     Images     Labels          P          R     mAP@.5 mAP@\n",
      "                 all      17856      23204      0.923      0.886      0.945      0.481\n",
      "\n",
      "     Epoch   gpu_mem       box       obj       cls    labels  img_size\n",
      "     2/149     15.6G   0.04526  0.008592         0       159       544: 100%|███\n",
      "               Class     Images     Labels          P          R     mAP@.5 mAP@\n",
      "                 all      17856      23204      0.909        0.9      0.948      0.438\n",
      "\n",
      "     Epoch   gpu_mem       box       obj       cls    labels  img_size\n",
      "     3/149     15.6G   0.04264  0.008331         0       165       544: 100%|███\n",
      "               Class     Images     Labels          P          R     mAP@.5 mAP@\n",
      "                 all      17856      23204      0.912      0.889      0.942      0.416\n",
      "\n",
      "     Epoch   gpu_mem       box       obj       cls    labels  img_size\n",
      "     4/149     19.7G   0.04098  0.008341         0       169       544: 100%|███\n",
      "               Class     Images     Labels          P          R     mAP@.5 mAP@\n",
      "                 all      17856      23204      0.923      0.888      0.948      0.438\n",
      "\n",
      "     Epoch   gpu_mem       box       obj       cls    labels  img_size\n",
      "     5/149     19.7G   0.04062  0.008394         0       167       544: 100%|███\n",
      "               Class     Images     Labels          P          R     mAP@.5 mAP@\n",
      "                 all      17856      23204      0.891      0.891      0.938      0.492\n",
      "\n",
      "     Epoch   gpu_mem       box       obj       cls    labels  img_size\n",
      "     6/149     19.7G   0.04016  0.008276         0       167       544: 100%|███\n",
      "               Class     Images     Labels          P          R     mAP@.5 mAP@\n",
      "                 all      17856      23204      0.907      0.878      0.938      0.489\n",
      "\n",
      "     Epoch   gpu_mem       box       obj       cls    labels  img_size\n",
      "     7/149     19.7G   0.03894  0.008179         0       166       544: 100%|███\n",
      "               Class     Images     Labels          P          R     mAP@.5 mAP@\n",
      "                 all      17856      23204      0.924      0.906      0.957      0.502\n",
      "\n",
      "     Epoch   gpu_mem       box       obj       cls    labels  img_size\n",
      "     8/149     19.7G    0.0383  0.008094         0       159       544: 100%|███\n",
      "               Class     Images     Labels          P          R     mAP@.5 mAP@\n",
      "                 all      17856      23204      0.931      0.909       0.96      0.498\n",
      "\n",
      "     Epoch   gpu_mem       box       obj       cls    labels  img_size\n",
      "     9/149     19.7G   0.03754   0.00797         0       162       544: 100%|███\n",
      "               Class     Images     Labels          P          R     mAP@.5 mAP@\n",
      "                 all      17856      23204      0.946       0.92      0.972      0.576\n",
      "\n",
      "     Epoch   gpu_mem       box       obj       cls    labels  img_size\n",
      "    10/149     19.7G   0.03709  0.007885         0       160       544: 100%|███\n",
      "               Class     Images     Labels          P          R     mAP@.5 mAP@\n",
      "                 all      17856      23204      0.933       0.91      0.962      0.493\n",
      "\n",
      "     Epoch   gpu_mem       box       obj       cls    labels  img_size\n",
      "    11/149     19.7G   0.03683  0.007841         0       173       544: 100%|███\n",
      "               Class     Images     Labels          P          R     mAP@.5 mAP@\n",
      "                 all      17856      23204      0.936      0.913      0.963      0.548\n",
      "\n",
      "     Epoch   gpu_mem       box       obj       cls    labels  img_size\n",
      "    12/149     19.7G   0.03636  0.007796         0       157       544: 100%|███\n",
      "               Class     Images     Labels          P          R     mAP@.5 mAP@\n",
      "                 all      17856      23204      0.945      0.912      0.969      0.578\n",
      "\n",
      "     Epoch   gpu_mem       box       obj       cls    labels  img_size\n",
      "    13/149     19.7G   0.03614   0.00783         0       170       544: 100%|███\n",
      "               Class     Images     Labels          P          R     mAP@.5 mAP@\n",
      "                 all      17856      23204      0.942      0.929      0.972      0.577\n",
      "\n",
      "     Epoch   gpu_mem       box       obj       cls    labels  img_size\n",
      "    14/149     19.7G   0.03575  0.007657         0       180       544: 100%|███\n",
      "               Class     Images     Labels          P          R     mAP@.5 mAP@\n",
      "                 all      17856      23204      0.942      0.908      0.962      0.524\n",
      "\n",
      "     Epoch   gpu_mem       box       obj       cls    labels  img_size\n",
      "    15/149     19.7G   0.03541  0.007667         0       174       544: 100%|███\n",
      "               Class     Images     Labels          P          R     mAP@.5 mAP@\n",
      "                 all      17856      23204      0.944      0.935      0.976      0.606\n",
      "\n",
      "     Epoch   gpu_mem       box       obj       cls    labels  img_size\n",
      "    16/149     19.7G   0.03542  0.007633         0       165       544: 100%|███\n",
      "               Class     Images     Labels          P          R     mAP@.5 mAP@\n",
      "                 all      17856      23204      0.946      0.931      0.974      0.607\n",
      "\n",
      "     Epoch   gpu_mem       box       obj       cls    labels  img_size\n",
      "    17/149     19.7G    0.0352  0.007695         0       198       544: 100%|███\n",
      "               Class     Images     Labels          P          R     mAP@.5 mAP@\n",
      "                 all      17856      23204      0.921      0.903      0.954      0.516\n",
      "\n",
      "     Epoch   gpu_mem       box       obj       cls    labels  img_size\n",
      "    18/149     19.7G   0.03501  0.007548         0       190       544: 100%|███\n",
      "               Class     Images     Labels          P          R     mAP@.5 mAP@\n",
      "                 all      17856      23204      0.952      0.934      0.979      0.639\n",
      "\n",
      "     Epoch   gpu_mem       box       obj       cls    labels  img_size\n",
      "    19/149     19.7G   0.03462  0.007501         0       171       544: 100%|███\n",
      "               Class     Images     Labels          P          R     mAP@.5 mAP@\n",
      "                 all      17856      23204      0.946      0.937      0.978      0.618\n",
      "\n",
      "     Epoch   gpu_mem       box       obj       cls    labels  img_size\n",
      "    20/149     19.7G   0.03457  0.007498         0       171       544: 100%|███\n",
      "               Class     Images     Labels          P          R     mAP@.5 mAP@\n",
      "                 all      17856      23204      0.943      0.923      0.972       0.58\n",
      "\n",
      "     Epoch   gpu_mem       box       obj       cls    labels  img_size\n",
      "    21/149     19.7G   0.03439  0.007467         0       181       544: 100%|███\n",
      "               Class     Images     Labels          P          R     mAP@.5 mAP@\n",
      "                 all      17856      23204      0.953      0.935      0.979      0.635\n",
      "\n",
      "     Epoch   gpu_mem       box       obj       cls    labels  img_size\n",
      "    22/149     19.7G   0.03424  0.007406         0       158       544: 100%|███\n",
      "               Class     Images     Labels          P          R     mAP@.5 mAP@\n",
      "                 all      17856      23204       0.93        0.9      0.958      0.551\n",
      "\n",
      "     Epoch   gpu_mem       box       obj       cls    labels  img_size\n",
      "    23/149     19.7G   0.03404  0.007432         0       164       544: 100%|███\n",
      "               Class     Images     Labels          P          R     mAP@.5 mAP@\n",
      "                 all      17856      23204      0.953      0.938      0.981      0.644\n",
      "\n",
      "     Epoch   gpu_mem       box       obj       cls    labels  img_size\n",
      "    24/149     19.7G   0.03384  0.007402         0       159       544: 100%|███\n",
      "               Class     Images     Labels          P          R     mAP@.5 mAP@\n",
      "                 all      17856      23204      0.948      0.941      0.981      0.635\n",
      "\n",
      "     Epoch   gpu_mem       box       obj       cls    labels  img_size\n",
      "    25/149     19.7G   0.03375  0.007391         0       177       544: 100%|███\n",
      "               Class     Images     Labels          P          R     mAP@.5 mAP@\n",
      "                 all      17856      23204      0.947      0.934      0.979      0.619\n",
      "\n",
      "     Epoch   gpu_mem       box       obj       cls    labels  img_size\n",
      "    26/149     19.7G   0.03362  0.007357         0       186       544: 100%|███\n",
      "               Class     Images     Labels          P          R     mAP@.5 mAP@\n",
      "                 all      17856      23204      0.952      0.932      0.979      0.614\n",
      "\n",
      "     Epoch   gpu_mem       box       obj       cls    labels  img_size\n",
      "    27/149     19.7G   0.03366  0.007343         0       181       544: 100%|███\n",
      "               Class     Images     Labels          P          R     mAP@.5 mAP@\n",
      "                 all      17856      23204       0.96      0.938      0.982      0.657\n",
      "\n",
      "     Epoch   gpu_mem       box       obj       cls    labels  img_size\n",
      "    28/149     19.7G   0.03315  0.007231         0       184       544: 100%|███\n",
      "               Class     Images     Labels          P          R     mAP@.5 mAP@\n",
      "                 all      17856      23204      0.959      0.952      0.987       0.68\n",
      "\n",
      "     Epoch   gpu_mem       box       obj       cls    labels  img_size\n",
      "    29/149     19.7G   0.03321  0.007277         0       178       544: 100%|███\n",
      "               Class     Images     Labels          P          R     mAP@.5 mAP@\n",
      "                 all      17856      23204      0.954      0.948      0.984      0.645\n",
      "\n",
      "     Epoch   gpu_mem       box       obj       cls    labels  img_size\n",
      "    30/149     19.7G   0.03302   0.00727         0       195       544: 100%|███\n",
      "               Class     Images     Labels          P          R     mAP@.5 mAP@\n",
      "                 all      17856      23204      0.961      0.941      0.985      0.677\n",
      "\n",
      "     Epoch   gpu_mem       box       obj       cls    labels  img_size\n",
      "    31/149     19.7G   0.03277   0.00717         0       174       544: 100%|███\n",
      "               Class     Images     Labels          P          R     mAP@.5 mAP@\n",
      "                 all      17856      23204      0.964      0.941      0.984      0.691\n",
      "\n",
      "     Epoch   gpu_mem       box       obj       cls    labels  img_size\n",
      "    32/149     19.7G   0.03267  0.007183         0       172       544: 100%|███\n",
      "               Class     Images     Labels          P          R     mAP@.5 mAP@\n",
      "                 all      17856      23204      0.962       0.95      0.986      0.688\n",
      "\n",
      "     Epoch   gpu_mem       box       obj       cls    labels  img_size\n",
      "    33/149     19.7G   0.03257  0.007154         0       166       544: 100%|███\n",
      "               Class     Images     Labels          P          R     mAP@.5 mAP@\n",
      "                 all      17856      23204      0.964      0.945      0.986       0.68\n",
      "\n",
      "     Epoch   gpu_mem       box       obj       cls    labels  img_size\n",
      "    34/149     19.7G   0.03242   0.00714         0       182       544: 100%|███\n",
      "               Class     Images     Labels          P          R     mAP@.5 mAP@\n",
      "                 all      17856      23204      0.959      0.947      0.984      0.696\n",
      "\n",
      "     Epoch   gpu_mem       box       obj       cls    labels  img_size\n",
      "    35/149     19.7G   0.03241  0.007189         0       185       544: 100%|███\n",
      "               Class     Images     Labels          P          R     mAP@.5 mAP@\n",
      "                 all      17856      23204      0.964       0.95      0.987      0.702\n",
      "\n",
      "     Epoch   gpu_mem       box       obj       cls    labels  img_size\n",
      "    36/149     19.7G   0.03242  0.007177         0       177       544: 100%|███\n",
      "               Class     Images     Labels          P          R     mAP@.5 mAP@\n",
      "                 all      17856      23204      0.966      0.955      0.988      0.702\n",
      "\n",
      "     Epoch   gpu_mem       box       obj       cls    labels  img_size\n",
      "    37/149     19.7G   0.03212  0.007114         0       179       544: 100%|███\n",
      "               Class     Images     Labels          P          R     mAP@.5 mAP@\n",
      "                 all      17856      23204      0.965      0.953      0.987        0.7\n",
      "\n",
      "     Epoch   gpu_mem       box       obj       cls    labels  img_size\n",
      "    38/149     19.7G     0.032  0.007045         0       178       544: 100%|███\n",
      "               Class     Images     Labels          P          R     mAP@.5 mAP@\n",
      "                 all      17856      23204      0.958      0.945      0.983      0.687\n",
      "\n",
      "     Epoch   gpu_mem       box       obj       cls    labels  img_size\n",
      "    39/149     19.7G   0.03196  0.007041         0       176       544: 100%|███\n",
      "               Class     Images     Labels          P          R     mAP@.5 mAP@\n",
      "                 all      17856      23204      0.966      0.953      0.988      0.734\n",
      "\n",
      "     Epoch   gpu_mem       box       obj       cls    labels  img_size\n",
      "    40/149     19.7G   0.03178  0.007059         0       158       544: 100%|███\n",
      "               Class     Images     Labels          P          R     mAP@.5 mAP@\n",
      "                 all      17856      23204      0.963      0.955      0.988      0.716\n",
      "\n",
      "     Epoch   gpu_mem       box       obj       cls    labels  img_size\n",
      "    41/149     19.7G   0.03155  0.006965         0       166       544: 100%|███\n",
      "               Class     Images     Labels          P          R     mAP@.5 mAP@\n",
      "                 all      17856      23204      0.968      0.955      0.989       0.73\n",
      "\n",
      "     Epoch   gpu_mem       box       obj       cls    labels  img_size\n",
      "    42/149     19.7G   0.03147  0.007062         0       184       544: 100%|███\n",
      "               Class     Images     Labels          P          R     mAP@.5 mAP@\n",
      "                 all      17856      23204      0.967       0.95      0.987      0.727\n",
      "\n",
      "     Epoch   gpu_mem       box       obj       cls    labels  img_size\n",
      "    43/149     19.7G   0.03132  0.006953         0       183       544: 100%|███\n",
      "               Class     Images     Labels          P          R     mAP@.5 mAP@\n",
      "                 all      17856      23204      0.967      0.947      0.987      0.722\n",
      "\n",
      "     Epoch   gpu_mem       box       obj       cls    labels  img_size\n",
      "    44/149     19.7G   0.03128  0.006951         0       160       544: 100%|███\n",
      "               Class     Images     Labels          P          R     mAP@.5 mAP@\n",
      "                 all      17856      23204      0.973       0.95      0.988      0.738\n",
      "\u001b[34m\u001b[1mwandb\u001b[0m: Network error (TransientError), entering retry loop.\n",
      "\n",
      "     Epoch   gpu_mem       box       obj       cls    labels  img_size\n",
      "    45/149     19.7G   0.03101  0.006881         0       177       544: 100%|███\n",
      "               Class     Images     Labels          P          R     mAP@.5 mAP@\n",
      "                 all      17856      23204      0.968       0.95      0.988      0.731\n",
      "\n",
      "     Epoch   gpu_mem       box       obj       cls    labels  img_size\n",
      "    46/149     19.7G    0.0311  0.006858         0       159       544: 100%|███\n",
      "               Class     Images     Labels          P          R     mAP@.5 mAP@\n",
      "Traceback (most recent call last):\n",
      "  File \"train.py\", line 638, in <module>\n",
      "    main(opt)\n",
      "  File \"train.py\", line 535, in main\n",
      "    train(opt.hyp, opt, device, callbacks)\n",
      "  File \"train.py\", line 369, in train\n",
      "    results, maps, _ = val.run(data_dict,\n",
      "  File \"/home/ldp/anaconda3/lib/python3.8/site-packages/torch/autograd/grad_mode.py\", line 28, in decorate_context\n",
      "    return func(*args, **kwargs)\n",
      "  File \"/home/ldp/competitions/dcic2022/ship_detect/yolov5/val.py\", line 192, in run\n",
      "    out, train_out = model(im) if training else model(im, augment=augment, val=True)  # inference, loss outputs\n",
      "  File \"/home/ldp/anaconda3/lib/python3.8/site-packages/torch/nn/modules/module.py\", line 1102, in _call_impl\n",
      "    return forward_call(*input, **kwargs)\n",
      "  File \"/home/ldp/competitions/dcic2022/ship_detect/yolov5/models/yolo.py\", line 126, in forward\n",
      "    return self._forward_once(x, profile, visualize)  # single-scale inference, train\n",
      "  File \"/home/ldp/competitions/dcic2022/ship_detect/yolov5/models/yolo.py\", line 149, in _forward_once\n",
      "    x = m(x)  # run\n",
      "  File \"/home/ldp/anaconda3/lib/python3.8/site-packages/torch/nn/modules/module.py\", line 1102, in _call_impl\n",
      "    return forward_call(*input, **kwargs)\n",
      "  File \"/home/ldp/competitions/dcic2022/ship_detect/yolov5/models/common.py\", line 47, in forward\n",
      "    return self.act(self.bn(self.conv(x)))\n",
      "  File \"/home/ldp/anaconda3/lib/python3.8/site-packages/torch/nn/modules/module.py\", line 1102, in _call_impl\n",
      "    return forward_call(*input, **kwargs)\n",
      "  File \"/home/ldp/anaconda3/lib/python3.8/site-packages/torch/nn/modules/conv.py\", line 446, in forward\n",
      "    return self._conv_forward(input, self.weight, self.bias)\n",
      "  File \"/home/ldp/anaconda3/lib/python3.8/site-packages/torch/nn/modules/conv.py\", line 442, in _conv_forward\n",
      "    return F.conv2d(input, weight, bias, self.stride,\n",
      "RuntimeError: Unable to find a valid cuDNN algorithm to run convolution\n",
      "\n",
      "\u001b[34m\u001b[1mwandb\u001b[0m: Waiting for W&B process to finish, PID 1029787... (failed 1). Press ctrl-c to abort syncing.\n",
      "\u001b[34m\u001b[1mwandb\u001b[0m:                                                                                \n",
      "\u001b[34m\u001b[1mwandb\u001b[0m: Run history:\n",
      "\u001b[34m\u001b[1mwandb\u001b[0m:        metrics/mAP_0.5 ▁▆▆▆▆▆▆▇▇▇▇▇▇▇▇▇██▇█████████████████████\n",
      "\u001b[34m\u001b[1mwandb\u001b[0m:   metrics/mAP_0.5:0.95 ▁▄▄▄▄▅▅▅▆▅▅▆▆▅▆▅▇▆▆▇▇▇▆▆▇▇▇▇▇▇▇██▇██████\n",
      "\u001b[34m\u001b[1mwandb\u001b[0m:      metrics/precision ▁▆▆▆▆▅▆▇▇▇▇▇▇▇▇▆▇▇▇▇▇▇▇▇██▇█████████████\n",
      "\u001b[34m\u001b[1mwandb\u001b[0m:         metrics/recall ▁▅▆▆▆▆▅▆▇▆▆▆▇▆▇▆▇▇▇▇▇▇▇▇▇██▇████████████\n",
      "\u001b[34m\u001b[1mwandb\u001b[0m:         train/box_loss █▅▄▃▃▃▃▂▂▂▂▂▂▂▂▂▂▂▂▂▂▂▂▁▁▁▁▁▁▁▁▁▁▁▁▁▁▁▁▁\n",
      "\u001b[34m\u001b[1mwandb\u001b[0m:         train/cls_loss ▁▁▁▁▁▁▁▁▁▁▁▁▁▁▁▁▁▁▁▁▁▁▁▁▁▁▁▁▁▁▁▁▁▁▁▁▁▁▁▁\n",
      "\u001b[34m\u001b[1mwandb\u001b[0m:         train/obj_loss █▃▂▂▂▂▂▂▂▂▂▂▂▂▂▂▁▁▁▁▁▁▁▁▁▁▁▁▁▁▁▁▁▁▁▁▁▁▁▁\n",
      "\u001b[34m\u001b[1mwandb\u001b[0m:           val/box_loss █▅▅▅▅▄▄▄▃▄▃▃▃▄▃▄▂▃▃▂▂▂▃▃▂▂▂▂▂▂▂▂▁▂▁▁▁▁▁▁\n",
      "\u001b[34m\u001b[1mwandb\u001b[0m:           val/cls_loss ▁▁▁▁▁▁▁▁▁▁▁▁▁▁▁▁▁▁▁▁▁▁▁▁▁▁▁▁▁▁▁▁▁▁▁▁▁▁▁▁\n",
      "\u001b[34m\u001b[1mwandb\u001b[0m:           val/obj_loss █▅▄▄▄▄▄▄▃▃▃▃▃▄▃▄▂▂▃▃▂▂▂▂▂▂▂▂▂▂▂▁▁▂▁▁▁▁▁▁\n",
      "\u001b[34m\u001b[1mwandb\u001b[0m:                  x/lr0 ▁▂▄▅▇███████████████████▇▇▇▇▇▇▇▇▇▇▇▇▇▇▇▇\n",
      "\u001b[34m\u001b[1mwandb\u001b[0m:                  x/lr1 ▁▂▄▅▇███████████████████▇▇▇▇▇▇▇▇▇▇▇▇▇▇▇▇\n",
      "\u001b[34m\u001b[1mwandb\u001b[0m:                  x/lr2 █▇▅▄▂▁▁▁▁▁▁▁▁▁▁▁▁▁▁▁▁▁▁▁▁▁▁▁▁▁▁▁▁▁▁▁▁▁▁▁\n",
      "\u001b[34m\u001b[1mwandb\u001b[0m: \n",
      "\u001b[34m\u001b[1mwandb\u001b[0m: Run summary:\n",
      "\u001b[34m\u001b[1mwandb\u001b[0m:             best/epoch 44\n",
      "\u001b[34m\u001b[1mwandb\u001b[0m:           best/mAP_0.5 0.98849\n",
      "\u001b[34m\u001b[1mwandb\u001b[0m:      best/mAP_0.5:0.95 0.73797\n",
      "\u001b[34m\u001b[1mwandb\u001b[0m:         best/precision 0.97256\n",
      "\u001b[34m\u001b[1mwandb\u001b[0m:            best/recall 0.95048\n",
      "\u001b[34m\u001b[1mwandb\u001b[0m:        metrics/mAP_0.5 0.98765\n",
      "\u001b[34m\u001b[1mwandb\u001b[0m:   metrics/mAP_0.5:0.95 0.73086\n",
      "\u001b[34m\u001b[1mwandb\u001b[0m:      metrics/precision 0.96791\n",
      "\u001b[34m\u001b[1mwandb\u001b[0m:         metrics/recall 0.9502\n",
      "\u001b[34m\u001b[1mwandb\u001b[0m:         train/box_loss 0.03101\n",
      "\u001b[34m\u001b[1mwandb\u001b[0m:         train/cls_loss 0.0\n",
      "\u001b[34m\u001b[1mwandb\u001b[0m:         train/obj_loss 0.00688\n",
      "\u001b[34m\u001b[1mwandb\u001b[0m:           val/box_loss 0.02067\n",
      "\u001b[34m\u001b[1mwandb\u001b[0m:           val/cls_loss 0.0\n",
      "\u001b[34m\u001b[1mwandb\u001b[0m:           val/obj_loss 0.00495\n",
      "\u001b[34m\u001b[1mwandb\u001b[0m:                  x/lr0 0.00822\n",
      "\u001b[34m\u001b[1mwandb\u001b[0m:                  x/lr1 0.00822\n",
      "\u001b[34m\u001b[1mwandb\u001b[0m:                  x/lr2 0.00822\n",
      "\u001b[34m\u001b[1mwandb\u001b[0m: \n",
      "\u001b[34m\u001b[1mwandb\u001b[0m: Synced 6 W&B file(s), 101 media file(s), 0 artifact file(s) and 0 other file(s)\n",
      "\u001b[34m\u001b[1mwandb\u001b[0m: Synced \u001b[33m128_528_uflip_vm5_f1_naive3\u001b[0m: \u001b[34mhttps://wandb.ai/anony-moose-164537/YOLOv5/runs/2zs59vyf?apiKey=c2132738292f5107bf54c78f198f8a12e4b6d70e\u001b[0m\n",
      "\u001b[34m\u001b[1mwandb\u001b[0m: Find logs at: ./wandb/run-20220127_135100-2zs59vyf/logs/debug.log\n",
      "\u001b[34m\u001b[1mwandb\u001b[0m: \n"
     ]
    }
   ],
   "source": [
    "!python train.py --img 32 --batch 1024 --epochs 150 --data ship_f1_naive_3.yaml --weights yolov5l.pt --name 32_1024_uflip_vm5_f1 --hyp data/hyps/hyp.heavy.2.yaml"
   ]
  },
  {
   "cell_type": "code",
   "execution_count": 12,
   "id": "2bda6aea",
   "metadata": {
    "execution": {
     "iopub.execute_input": "2022-01-13T20:20:03.890781Z",
     "iopub.status.busy": "2022-01-13T20:20:03.890068Z",
     "iopub.status.idle": "2022-01-13T20:20:04.716600Z",
     "shell.execute_reply": "2022-01-13T20:20:04.715498Z",
     "shell.execute_reply.started": "2022-01-13T15:38:38.001095Z"
    },
    "papermill": {
     "duration": 3.968086,
     "end_time": "2022-01-13T20:20:04.716797",
     "exception": false,
     "start_time": "2022-01-13T20:20:00.748711",
     "status": "completed"
    },
    "tags": []
   },
   "outputs": [
    {
     "name": "stdout",
     "output_type": "stream",
     "text": [
      "CONTRIBUTING.md  __pycache__  hubconf.py\tsetup.cfg\tval.py\r\n",
      "Dockerfile\t data\t      models\t\ttrain.py\tyolov5s6.pt\r\n",
      "LICENSE\t\t detect.py    requirements.txt\ttutorial.ipynb\r\n",
      "README.md\t export.py    runs\t\tutils\r\n"
     ]
    }
   ],
   "source": [
    "!ls"
   ]
  },
  {
   "cell_type": "code",
   "execution_count": null,
   "id": "0306c963",
   "metadata": {
    "papermill": {
     "duration": 3.208463,
     "end_time": "2022-01-13T20:20:11.246870",
     "exception": false,
     "start_time": "2022-01-13T20:20:08.038407",
     "status": "completed"
    },
    "tags": []
   },
   "outputs": [],
   "source": []
  }
 ],
 "metadata": {
  "kernelspec": {
   "display_name": "Python 3",
   "language": "python",
   "name": "python3"
  },
  "language_info": {
   "codemirror_mode": {
    "name": "ipython",
    "version": 3
   },
   "file_extension": ".py",
   "mimetype": "text/x-python",
   "name": "python",
   "nbconvert_exporter": "python",
   "pygments_lexer": "ipython3",
   "version": "3.8.5"
  },
  "papermill": {
   "default_parameters": {},
   "duration": 16143.063915,
   "end_time": "2022-01-13T20:20:15.069519",
   "environment_variables": {},
   "exception": null,
   "input_path": "__notebook__.ipynb",
   "output_path": "__notebook__.ipynb",
   "parameters": {},
   "start_time": "2022-01-13T15:51:12.005604",
   "version": "2.3.3"
  }
 },
 "nbformat": 4,
 "nbformat_minor": 5
}
